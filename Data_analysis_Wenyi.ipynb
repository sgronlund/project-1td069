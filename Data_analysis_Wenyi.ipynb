{
 "cells": [
  {
   "cell_type": "code",
   "execution_count": 1,
   "id": "db0dd303",
   "metadata": {},
   "outputs": [
    {
     "name": "stderr",
     "output_type": "stream",
     "text": [
      "Setting default log level to \"WARN\".\n",
      "To adjust logging level use sc.setLogLevel(newLevel). For SparkR, use setLogLevel(newLevel).\n"
     ]
    },
    {
     "name": "stdout",
     "output_type": "stream",
     "text": [
      "23/03/20 22:25:26 WARN NativeCodeLoader: Unable to load native-hadoop library for your platform... using builtin-java classes where applicable\n"
     ]
    }
   ],
   "source": [
    "from pyspark.sql import SparkSession\n",
    "\n",
    "# New API\n",
    "spark_session = SparkSession.builder\\\n",
    "        .master(\"spark://192.168.2.43:7077\") \\\n",
    "        .appName(\"docker_test\")\\\n",
    "        .getOrCreate()\n",
    "\n",
    "# Old API (RDD)\n",
    "spark_context = spark_session.sparkContext\n",
    "\n",
    "spark_context.setLogLevel(\"ERROR\")"
   ]
  },
  {
   "cell_type": "code",
   "execution_count": 1,
   "id": "15f0b10d",
   "metadata": {},
   "outputs": [
    {
     "name": "stderr",
     "output_type": "stream",
     "text": [
      "Setting default log level to \"WARN\".\n",
      "To adjust logging level use sc.setLogLevel(newLevel). For SparkR, use setLogLevel(newLevel).\n"
     ]
    },
    {
     "name": "stdout",
     "output_type": "stream",
     "text": [
      "23/03/21 15:48:11 WARN NativeCodeLoader: Unable to load native-hadoop library for your platform... using builtin-java classes where applicable\n",
      "23/03/21 15:48:14 WARN Utils: Service 'SparkUI' could not bind on port 4040. Attempting port 4041.\n"
     ]
    }
   ],
   "source": [
    "# 1.Executor with limited resources\n",
    "from pyspark.sql import SparkSession\n",
    "from pyspark.sql import functions as F\n",
    "\n",
    "spark_session = SparkSession.builder\\\n",
    "        .master(\"spark://192.168.2.43:7077\") \\\n",
    "        .appName(\"Analytics_SG\")\\\n",
    "        .config(\"spark.dynamicAllocation.enabled\", True)\\\n",
    "        .config(\"spark.dynamicAllocation.shuffleTracking.enabled\",True)\\\n",
    "        .config(\"spark.dynamicAllocation.executorIdleTimeout\",\"30s\")\\\n",
    "        .config(\"spark.executor.instances\", 1)\\\n",
    "        .config(\"spark.cores.max\", 1)\\\n",
    "        .getOrCreate()"
   ]
  },
  {
   "cell_type": "code",
   "execution_count": 1,
   "id": "8894f179",
   "metadata": {},
   "outputs": [
    {
     "name": "stderr",
     "output_type": "stream",
     "text": [
      "Setting default log level to \"WARN\".\n",
      "To adjust logging level use sc.setLogLevel(newLevel). For SparkR, use setLogLevel(newLevel).\n"
     ]
    },
    {
     "name": "stdout",
     "output_type": "stream",
     "text": [
      "23/03/21 16:03:10 WARN NativeCodeLoader: Unable to load native-hadoop library for your platform... using builtin-java classes where applicable\n",
      "23/03/21 16:03:11 WARN Utils: Service 'SparkUI' could not bind on port 4040. Attempting port 4041.\n"
     ]
    }
   ],
   "source": [
    "#2.Executor max resources\n",
    "from pyspark.sql import SparkSession\n",
    "from pyspark.sql import functions as F\n",
    "\n",
    "spark_session = SparkSession.builder\\\n",
    "        .master(\"spark://192.168.2.43:7077\") \\\n",
    "        .appName(\"Analytics_SG\")\\\n",
    "        .config(\"spark.dynamicAllocation.enabled\", True)\\\n",
    "        .config(\"spark.dynamicAllocation.shuffleTracking.enabled\",True)\\\n",
    "        .config(\"spark.dynamicAllocation.executorIdleTimeout\",\"30s\")\\\n",
    "        .config(\"spark.executor.instances\", 1)\\\n",
    "        .getOrCreate()"
   ]
  },
  {
   "cell_type": "code",
   "execution_count": 1,
   "id": "abe16c7c",
   "metadata": {},
   "outputs": [
    {
     "name": "stderr",
     "output_type": "stream",
     "text": [
      "Setting default log level to \"WARN\".\n",
      "To adjust logging level use sc.setLogLevel(newLevel). For SparkR, use setLogLevel(newLevel).\n"
     ]
    },
    {
     "name": "stdout",
     "output_type": "stream",
     "text": [
      "23/03/21 16:12:57 WARN NativeCodeLoader: Unable to load native-hadoop library for your platform... using builtin-java classes where applicable\n",
      "23/03/21 16:12:58 WARN Utils: Service 'SparkUI' could not bind on port 4040. Attempting port 4041.\n"
     ]
    }
   ],
   "source": [
    "#test3\n",
    "from pyspark.sql import SparkSession\n",
    "from pyspark.sql import functions as F\n",
    "\n",
    "spark_session = SparkSession.builder\\\n",
    "        .master(\"spark://192.168.2.43:7077\") \\\n",
    "        .appName(\"Analytics_SG\")\\\n",
    "        .config(\"spark.dynamicAllocation.enabled\", True)\\\n",
    "        .config(\"spark.dynamicAllocation.shuffleTracking.enabled\",True)\\\n",
    "        .config(\"spark.dynamicAllocation.executorIdleTimeout\",\"30s\")\\\n",
    "        .config(\"spark.executor.instances\", 2)\\\n",
    "        .config(\"spark.cores.max\", 2)\\\n",
    "        .getOrCreate()"
   ]
  },
  {
   "cell_type": "code",
   "execution_count": 1,
   "id": "cc1ce0c3",
   "metadata": {},
   "outputs": [
    {
     "name": "stderr",
     "output_type": "stream",
     "text": [
      "Setting default log level to \"WARN\".\n",
      "To adjust logging level use sc.setLogLevel(newLevel). For SparkR, use setLogLevel(newLevel).\n"
     ]
    },
    {
     "name": "stdout",
     "output_type": "stream",
     "text": [
      "23/03/21 16:28:35 WARN NativeCodeLoader: Unable to load native-hadoop library for your platform... using builtin-java classes where applicable\n",
      "23/03/21 16:28:36 WARN Utils: Service 'SparkUI' could not bind on port 4040. Attempting port 4041.\n"
     ]
    }
   ],
   "source": [
    "#test4\n",
    "from pyspark.sql import SparkSession\n",
    "from pyspark.sql import functions as F\n",
    "\n",
    "spark_session= SparkSession.builder\\\n",
    "        .master(\"spark://192.168.2.43:7077\") \\\n",
    "        .appName(\"Analytics_SG\")\\\n",
    "        .config(\"spark.dynamicAllocation.enabled\", True)\\\n",
    "        .config(\"spark.dynamicAllocation.shuffleTracking.enabled\",True)\\\n",
    "        .config(\"spark.dynamicAllocation.executorIdleTimeout\",\"30s\")\\\n",
    "        .config(\"spark.executor.instances\", 2)\\\n",
    "        .config(\"spark.cores.max\", 4)\\\n",
    "        .getOrCreate()"
   ]
  },
  {
   "cell_type": "code",
   "execution_count": 2,
   "id": "af3beaeb",
   "metadata": {
    "scrolled": true
   },
   "outputs": [
    {
     "name": "stderr",
     "output_type": "stream",
     "text": [
      "                                                                                \r"
     ]
    },
    {
     "name": "stdout",
     "output_type": "stream",
     "text": [
      "23/03/21 16:29:24 WARN package: Truncated the string representation of a plan since it was too large. This behavior can be adjusted by setting 'spark.sql.debug.maxToStringFields'.\n",
      "+---------+-------------------+------+--------+---------+---------+---------+-----------+---------+---------------+--------------+-----------+------------+-------+-------+-------+----+----+----+----+----+----+----+----+----+----+----+----+-----------------+----+----+\n",
      "|  STATION|               DATE|SOURCE|LATITUDE|LONGITUDE|ELEVATION|     NAME|REPORT_TYPE|CALL_SIGN|QUALITY_CONTROL|           WND|        CIG|         VIS|    TMP|    DEW|    SLP| AA1| AY1| AY2| GA1| GF1| KA1| MA1| MD1| MW1| OA1| OA2| SA1|              UA1| REM| EQD|\n",
      "+---------+-------------------+------+--------+---------+---------+---------+-----------+---------+---------------+--------------+-----------+------------+-------+-------+-------+----+----+----+----+----+----+----+----+----+----+----+----+-----------------+----+----+\n",
      "|826099999|2008-01-01 00:00:00|     4|     0.0|      0.0|      0.0|WXPOD8270|      FM-15|    KFMH |           V020|280,1,N,0062,1|22000,1,9,N|024140,1,N,1|+0020,1|-0040,1|10170,1|null|null|null|null|null|null|null|null|null|null|null|null|             null|null|null|\n",
      "|826099999|2008-01-01 00:53:00|     4|     0.0|      0.0|      0.0|WXPOD8270|      FM-15|    KCCR |           V020|100,1,N,0021,1|22000,1,9,N|016093,1,N,1|+9999,9|-0030,1|10231,1|null|null|null|null|null|null|null|null|null|null|null|null|1,99,1,+04500,1,9|null|null|\n",
      "|826099999|2008-01-01 00:53:00|     4|     0.0|      0.0|      0.0|WXPOD8270|      FM-16|    KDAL |           V020|360,1,N,0057,1|22000,1,9,N|016093,1,N,1|+9999,9|+9999,9|99999,9|null|null|null|null|null|null|null|null|null|null|null|null|             null|null|null|\n",
      "|826099999|2008-01-01 01:00:00|     4|     0.0|      0.0|      0.0|WXPOD8270|      FM-15|    KFMH |           V020|270,1,N,0046,1|22000,1,9,N|024140,1,N,1|+0010,1|-0040,1|10181,1|null|null|null|null|null|null|null|null|null|null|null|null|             null|null|null|\n",
      "|826099999|2008-01-01 01:53:00|     4|     0.0|      0.0|      0.0|WXPOD8270|      AUTO |    KCGI |           V020|300,1,N,0067,1|22000,1,9,N|016093,1,N,1|+0030,1|-0040,1|99999,9|null|null|null|null|null|null|null|null|null|null|null|null|             null|null|null|\n",
      "|826099999|2008-01-01 01:53:00|     4|     0.0|      0.0|      0.0|WXPOD8270|      FM-15|    KCCR |           V020|100,1,N,0031,1|22000,1,9,N|016093,1,N,1|+9999,9|-0030,1|10229,1|null|null|null|null|null|null|null|null|null|null|null|null|1,99,1,+04500,1,9|null|null|\n",
      "|826099999|2008-01-01 02:00:00|     4|     0.0|      0.0|      0.0|WXPOD8270|      FM-15|    KFMH |           V020|270,1,N,0051,1|22000,1,9,N|024140,1,N,1|+0010,1|-0040,1|10192,1|null|null|null|null|null|null|null|null|null|null|null|null|             null|null|null|\n",
      "|826099999|2008-01-01 02:53:00|     4|     0.0|      0.0|      0.0|WXPOD8270|      AUTO |    KCGI |           V020|280,1,N,0041,1|22000,1,9,N|016093,1,N,1|+0020,1|-0040,1|10190,1|null|null|null|null|null|null|null|null|null|null|null|null|             null|null|null|\n",
      "|826099999|2008-01-01 02:53:00|     4|     0.0|      0.0|      0.0|WXPOD8270|      FM-15|    KCCR |           V020|080,1,N,0041,1|22000,1,9,N|016093,1,N,1|+9999,9|-0030,1|10231,1|null|null|null|null|null|null|null|null|null|null|null|null|1,99,1,+04500,1,9|null|null|\n",
      "|826099999|2008-01-01 03:00:00|     4|     0.0|      0.0|      0.0|WXPOD8270|      SY-MT|    KFMH |           V020|300,1,N,0041,1|22000,1,9,N|016000,1,N,1|+0017,1|-0044,1|10203,1|null|null|null|null|null|null|null|null|null|null|null|null|             null|null|null|\n",
      "|826099999|2008-01-01 03:53:00|     4|     0.0|      0.0|      0.0|WXPOD8270|      AUTO |    KCGI |           V020|280,1,N,0041,1|22000,1,9,N|016093,1,N,1|+0010,1|-0030,1|10200,1|null|null|null|null|null|null|null|null|null|null|null|null|             null|null|null|\n",
      "|826099999|2008-01-01 03:53:00|     4|     0.0|      0.0|      0.0|WXPOD8270|      FM-15|    KCCR |           V020|100,1,N,0026,1|22000,1,9,N|016093,1,N,1|+9999,9|-0030,1|10234,1|null|null|null|null|null|null|null|null|null|null|null|null|             null|null|null|\n",
      "|826099999|2008-01-01 04:00:00|     4|     0.0|      0.0|      0.0|WXPOD8270|      FM-15|    KFMH |           V020|999,9,V,0010,1|22000,1,9,N|024140,1,N,1|-0030,1|-0050,1|10196,1|null|null|null|null|null|null|null|null|null|null|null|null|             null|null|null|\n",
      "|826099999|2008-01-01 04:53:00|     4|     0.0|      0.0|      0.0|WXPOD8270|      AUTO |    KCGI |           V020|260,1,N,0036,1|22000,1,9,N|016093,1,N,1|+0000,1|-0030,1|10207,1|null|null|null|null|null|null|null|null|null|null|null|null|             null|null|null|\n",
      "|826099999|2008-01-01 04:53:00|     4|     0.0|      0.0|      0.0|WXPOD8270|      FM-15|    KCCR |           V020|090,1,N,0026,1|22000,1,9,N|016093,1,N,1|+9999,9|-0030,1|10236,1|null|null|null|null|null|null|null|null|null|null|null|null|             null|null|null|\n",
      "|826099999|2008-01-01 05:00:00|     4|     0.0|      0.0|      0.0|WXPOD8270|      FM-15|    KFMH |           V020|210,1,N,0015,1|22000,1,9,N|024140,1,N,1|-0040,1|-0050,1|10199,1|null|null|null|null|null|null|null|null|null|null|null|null|             null|null|null|\n",
      "|826099999|2008-01-01 05:53:00|     4|     0.0|      0.0|      0.0|WXPOD8270|      AUTO |    KCGI |           V020|290,1,N,0051,1|22000,1,9,N|016093,1,N,1|+0010,1|-0040,1|10216,1|null|null|null|null|null|null|null|null|null|null|null|null|             null|null|null|\n",
      "|826099999|2008-01-01 05:53:00|     4|     0.0|      0.0|      0.0|WXPOD8270|      FM-15|    KCCR |           V020|100,1,N,0015,1|22000,1,9,N|016093,1,N,1|+9999,9|-0020,1|10240,1|null|null|null|null|null|null|null|null|null|null|null|null|             null|null|null|\n",
      "|826099999|2008-01-01 06:00:00|     4|     0.0|      0.0|      0.0|WXPOD8270|      FM-15|    KFMH |           V020|260,1,N,0005,1|22000,1,9,N|024140,1,N,1|-0040,1|-0050,1|10209,1|null|null|null|null|null|null|null|null|null|null|null|null|             null|null|null|\n",
      "|826099999|2008-01-01 06:53:00|     4|     0.0|      0.0|      0.0|WXPOD8270|      AUTO |    KCGI |           V020|290,1,N,0051,1|22000,1,9,N|016093,1,N,1|+0000,1|-0060,1|10226,1|null|null|null|null|null|null|null|null|null|null|null|null|             null|null|null|\n",
      "+---------+-------------------+------+--------+---------+---------+---------+-----------+---------+---------------+--------------+-----------+------------+-------+-------+-------+----+----+----+----+----+----+----+----+----+----+----+----+-----------------+----+----+\n",
      "only showing top 20 rows\n",
      "\n"
     ]
    }
   ],
   "source": [
    "df = spark_session.read.csv(r\"hdfs://192.168.2.43:9000/user/root/data/*/merge.csv\", encoding='gbk', header=True, inferSchema=True)\n",
    "df.show(truncate=True)"
   ]
  },
  {
   "cell_type": "code",
   "execution_count": 3,
   "id": "9ba7f660",
   "metadata": {},
   "outputs": [
    {
     "data": {
      "text/plain": [
       "[Row(STATION=826099999, DATE=datetime.datetime(2008, 1, 1, 0, 0), SOURCE=4, LATITUDE=0.0, LONGITUDE=0.0, ELEVATION=0.0, NAME='WXPOD8270', REPORT_TYPE='FM-15', CALL_SIGN='KFMH ', QUALITY_CONTROL='V020', WND='280,1,N,0062,1', CIG='22000,1,9,N', VIS='024140,1,N,1', TMP='+0020,1', DEW='-0040,1', SLP='10170,1', AA1=None, AY1=None, AY2=None, GA1=None, GF1=None, KA1=None, MA1=None, MD1=None, MW1=None, OA1=None, OA2=None, SA1=None, UA1=None, REM=None, EQD=None),\n",
       " Row(STATION=826099999, DATE=datetime.datetime(2008, 1, 1, 0, 53), SOURCE=4, LATITUDE=0.0, LONGITUDE=0.0, ELEVATION=0.0, NAME='WXPOD8270', REPORT_TYPE='FM-15', CALL_SIGN='KCCR ', QUALITY_CONTROL='V020', WND='100,1,N,0021,1', CIG='22000,1,9,N', VIS='016093,1,N,1', TMP='+9999,9', DEW='-0030,1', SLP='10231,1', AA1=None, AY1=None, AY2=None, GA1=None, GF1=None, KA1=None, MA1=None, MD1=None, MW1=None, OA1=None, OA2=None, SA1=None, UA1='1,99,1,+04500,1,9', REM=None, EQD=None),\n",
       " Row(STATION=826099999, DATE=datetime.datetime(2008, 1, 1, 0, 53), SOURCE=4, LATITUDE=0.0, LONGITUDE=0.0, ELEVATION=0.0, NAME='WXPOD8270', REPORT_TYPE='FM-16', CALL_SIGN='KDAL ', QUALITY_CONTROL='V020', WND='360,1,N,0057,1', CIG='22000,1,9,N', VIS='016093,1,N,1', TMP='+9999,9', DEW='+9999,9', SLP='99999,9', AA1=None, AY1=None, AY2=None, GA1=None, GF1=None, KA1=None, MA1=None, MD1=None, MW1=None, OA1=None, OA2=None, SA1=None, UA1=None, REM=None, EQD=None),\n",
       " Row(STATION=826099999, DATE=datetime.datetime(2008, 1, 1, 1, 0), SOURCE=4, LATITUDE=0.0, LONGITUDE=0.0, ELEVATION=0.0, NAME='WXPOD8270', REPORT_TYPE='FM-15', CALL_SIGN='KFMH ', QUALITY_CONTROL='V020', WND='270,1,N,0046,1', CIG='22000,1,9,N', VIS='024140,1,N,1', TMP='+0010,1', DEW='-0040,1', SLP='10181,1', AA1=None, AY1=None, AY2=None, GA1=None, GF1=None, KA1=None, MA1=None, MD1=None, MW1=None, OA1=None, OA2=None, SA1=None, UA1=None, REM=None, EQD=None),\n",
       " Row(STATION=826099999, DATE=datetime.datetime(2008, 1, 1, 1, 53), SOURCE=4, LATITUDE=0.0, LONGITUDE=0.0, ELEVATION=0.0, NAME='WXPOD8270', REPORT_TYPE='AUTO ', CALL_SIGN='KCGI ', QUALITY_CONTROL='V020', WND='300,1,N,0067,1', CIG='22000,1,9,N', VIS='016093,1,N,1', TMP='+0030,1', DEW='-0040,1', SLP='99999,9', AA1=None, AY1=None, AY2=None, GA1=None, GF1=None, KA1=None, MA1=None, MD1=None, MW1=None, OA1=None, OA2=None, SA1=None, UA1=None, REM=None, EQD=None)]"
      ]
     },
     "execution_count": 3,
     "metadata": {},
     "output_type": "execute_result"
    }
   ],
   "source": [
    "import time\n",
    "start = time.time()\n",
    "df.take(5)"
   ]
  },
  {
   "cell_type": "code",
   "execution_count": 4,
   "id": "52b3cb51",
   "metadata": {},
   "outputs": [],
   "source": [
    "#AIR-TEMPERATURE-OBSERVATION air temperature is abbreviated as the column header TMP\n",
    "#task：Analyze and visualize the top 10 cities(station) with the biggest daily temperature difference from 2000 to 2023\n",
    "#format:[city, contry, daily temperature difference, date]"
   ]
  },
  {
   "cell_type": "code",
   "execution_count": 5,
   "id": "59cb674a",
   "metadata": {},
   "outputs": [
    {
     "name": "stdout",
     "output_type": "stream",
     "text": [
      "root\n",
      " |-- STATION: integer (nullable = true)\n",
      " |-- DATE: timestamp (nullable = true)\n",
      " |-- SOURCE: integer (nullable = true)\n",
      " |-- LATITUDE: double (nullable = true)\n",
      " |-- LONGITUDE: double (nullable = true)\n",
      " |-- ELEVATION: double (nullable = true)\n",
      " |-- NAME: string (nullable = true)\n",
      " |-- REPORT_TYPE: string (nullable = true)\n",
      " |-- CALL_SIGN: string (nullable = true)\n",
      " |-- QUALITY_CONTROL: string (nullable = true)\n",
      " |-- WND: string (nullable = true)\n",
      " |-- CIG: string (nullable = true)\n",
      " |-- VIS: string (nullable = true)\n",
      " |-- TMP: string (nullable = true)\n",
      " |-- DEW: string (nullable = true)\n",
      " |-- SLP: string (nullable = true)\n",
      " |-- AA1: string (nullable = true)\n",
      " |-- AY1: string (nullable = true)\n",
      " |-- AY2: string (nullable = true)\n",
      " |-- GA1: string (nullable = true)\n",
      " |-- GF1: string (nullable = true)\n",
      " |-- KA1: string (nullable = true)\n",
      " |-- MA1: string (nullable = true)\n",
      " |-- MD1: string (nullable = true)\n",
      " |-- MW1: string (nullable = true)\n",
      " |-- OA1: string (nullable = true)\n",
      " |-- OA2: string (nullable = true)\n",
      " |-- SA1: string (nullable = true)\n",
      " |-- UA1: string (nullable = true)\n",
      " |-- REM: string (nullable = true)\n",
      " |-- EQD: string (nullable = true)\n",
      "\n"
     ]
    }
   ],
   "source": [
    "#Print the schema for the DataFrame.\n",
    "df.printSchema()"
   ]
  },
  {
   "cell_type": "code",
   "execution_count": 6,
   "id": "0c31c6cd",
   "metadata": {},
   "outputs": [
    {
     "name": "stdout",
     "output_type": "stream",
     "text": [
      "+---------+---------+-------------------+-------+\n",
      "|  STATION|     NAME|               DATE|    TMP|\n",
      "+---------+---------+-------------------+-------+\n",
      "|826099999|WXPOD8270|2008-01-01 00:00:00|+0020,1|\n",
      "|826099999|WXPOD8270|2008-01-01 00:53:00|+9999,9|\n",
      "|826099999|WXPOD8270|2008-01-01 00:53:00|+9999,9|\n",
      "|826099999|WXPOD8270|2008-01-01 01:00:00|+0010,1|\n",
      "|826099999|WXPOD8270|2008-01-01 01:53:00|+0030,1|\n",
      "|826099999|WXPOD8270|2008-01-01 01:53:00|+9999,9|\n",
      "|826099999|WXPOD8270|2008-01-01 02:00:00|+0010,1|\n",
      "|826099999|WXPOD8270|2008-01-01 02:53:00|+0020,1|\n",
      "|826099999|WXPOD8270|2008-01-01 02:53:00|+9999,9|\n",
      "|826099999|WXPOD8270|2008-01-01 03:00:00|+0017,1|\n",
      "|826099999|WXPOD8270|2008-01-01 03:53:00|+0010,1|\n",
      "|826099999|WXPOD8270|2008-01-01 03:53:00|+9999,9|\n",
      "|826099999|WXPOD8270|2008-01-01 04:00:00|-0030,1|\n",
      "|826099999|WXPOD8270|2008-01-01 04:53:00|+0000,1|\n",
      "|826099999|WXPOD8270|2008-01-01 04:53:00|+9999,9|\n",
      "|826099999|WXPOD8270|2008-01-01 05:00:00|-0040,1|\n",
      "|826099999|WXPOD8270|2008-01-01 05:53:00|+0010,1|\n",
      "|826099999|WXPOD8270|2008-01-01 05:53:00|+9999,9|\n",
      "|826099999|WXPOD8270|2008-01-01 06:00:00|-0040,1|\n",
      "|826099999|WXPOD8270|2008-01-01 06:53:00|+0000,1|\n",
      "+---------+---------+-------------------+-------+\n",
      "only showing top 20 rows\n",
      "\n"
     ]
    }
   ],
   "source": [
    "import pyspark.sql.functions as F\n",
    "\n",
    "df2 = df.select(\"STATION\",\"NAME\",\"DATE\",\"TMP\")\n",
    "df2.show()"
   ]
  },
  {
   "cell_type": "code",
   "execution_count": 7,
   "id": "4abd8b0f",
   "metadata": {},
   "outputs": [
    {
     "name": "stderr",
     "output_type": "stream",
     "text": [
      "                                                                                \r"
     ]
    },
    {
     "name": "stdout",
     "output_type": "stream",
     "text": [
      "count: 105\n"
     ]
    },
    {
     "name": "stderr",
     "output_type": "stream",
     "text": [
      "[Stage 11:=====================================================>  (25 + 1) / 26]\r"
     ]
    },
    {
     "name": "stdout",
     "output_type": "stream",
     "text": [
      "+----------+--------------------+\n",
      "|   STATION|                name|\n",
      "+----------+--------------------+\n",
      "| 826099999|           WXPOD8270|\n",
      "|1088499999|     GEITERYGGEN, NO|\n",
      "|1092099999|     MAKKAUR FYR, NO|\n",
      "|1102099999|     SKLINNA FYR, NO|\n",
      "|1102599999|         HEIDRUN, NO|\n",
      "|1007099999|      NY ALESUND, SV|\n",
      "|1045099999|NORDSTRAUM I KVAE...|\n",
      "|1074099999|          MEHAMN, NO|\n",
      "|1001499999|      SORSTOKKEN, NO|\n",
      "|1023199999|         DRAUGEN, NO|\n",
      "|1049099999|            ALTA, NO|\n",
      "|1075099999|    RUSTEFJELBMA, NO|\n",
      "|1014099999| SENJA LAUKHELLA, NO|\n",
      "|1025099999|          TROMSO, NO|\n",
      "|1099099999|VARDO AIRPORT SVA...|\n",
      "|1015099999|   HEKKINGEN FYR, NO|\n",
      "|1008099999|        LONGYEAR, SV|\n",
      "|1078099999|    SLETTNES FYR, NO|\n",
      "|1001099999|JAN MAYEN NOR NAV...|\n",
      "|1026099999|          TROMSO, NO|\n",
      "+----------+--------------------+\n",
      "only showing top 20 rows\n",
      "\n"
     ]
    },
    {
     "name": "stderr",
     "output_type": "stream",
     "text": [
      "                                                                                \r"
     ]
    }
   ],
   "source": [
    "# How many stations do we have\n",
    "print(\"count:\",df2.select(\"STATION\",\"name\").distinct().count())\n",
    "df2.select(\"STATION\",\"name\").distinct().show()"
   ]
  },
  {
   "cell_type": "code",
   "execution_count": 8,
   "id": "8cb1a6b6",
   "metadata": {},
   "outputs": [
    {
     "name": "stdout",
     "output_type": "stream",
     "text": [
      "+---------+---------+-------+----------+---------+\n",
      "|  STATION|     NAME|    TMP| DATE_year|DATE_time|\n",
      "+---------+---------+-------+----------+---------+\n",
      "|826099999|WXPOD8270|+0020,1|2008-01-01| 00:00:00|\n",
      "|826099999|WXPOD8270|+9999,9|2008-01-01| 00:53:00|\n",
      "|826099999|WXPOD8270|+9999,9|2008-01-01| 00:53:00|\n",
      "|826099999|WXPOD8270|+0010,1|2008-01-01| 01:00:00|\n",
      "|826099999|WXPOD8270|+0030,1|2008-01-01| 01:53:00|\n",
      "|826099999|WXPOD8270|+9999,9|2008-01-01| 01:53:00|\n",
      "|826099999|WXPOD8270|+0010,1|2008-01-01| 02:00:00|\n",
      "|826099999|WXPOD8270|+0020,1|2008-01-01| 02:53:00|\n",
      "|826099999|WXPOD8270|+9999,9|2008-01-01| 02:53:00|\n",
      "|826099999|WXPOD8270|+0017,1|2008-01-01| 03:00:00|\n",
      "|826099999|WXPOD8270|+0010,1|2008-01-01| 03:53:00|\n",
      "|826099999|WXPOD8270|+9999,9|2008-01-01| 03:53:00|\n",
      "|826099999|WXPOD8270|-0030,1|2008-01-01| 04:00:00|\n",
      "|826099999|WXPOD8270|+0000,1|2008-01-01| 04:53:00|\n",
      "|826099999|WXPOD8270|+9999,9|2008-01-01| 04:53:00|\n",
      "|826099999|WXPOD8270|-0040,1|2008-01-01| 05:00:00|\n",
      "|826099999|WXPOD8270|+0010,1|2008-01-01| 05:53:00|\n",
      "|826099999|WXPOD8270|+9999,9|2008-01-01| 05:53:00|\n",
      "|826099999|WXPOD8270|-0040,1|2008-01-01| 06:00:00|\n",
      "|826099999|WXPOD8270|+0000,1|2008-01-01| 06:53:00|\n",
      "+---------+---------+-------+----------+---------+\n",
      "only showing top 20 rows\n",
      "\n"
     ]
    }
   ],
   "source": [
    "#TMP and DATE are preprocessed\n",
    "#Air temperature (degrees Celsius * 10) \n",
    "df2 = df2.withColumn(\"DATE_year\", F.split(df2[\"DATE\"], \" \")[0])\n",
    "df2 = df2.withColumn(\"DATE_time\", F.split(df2[\"DATE\"], \" \")[1])\n",
    "df2 = df2.drop(\"DATE\")\n",
    "df2.show()"
   ]
  },
  {
   "cell_type": "code",
   "execution_count": 9,
   "id": "8a7be53f",
   "metadata": {},
   "outputs": [
    {
     "name": "stdout",
     "output_type": "stream",
     "text": [
      "+---------+---------+----------+---------+--------+---------------+\n",
      "|  STATION|     NAME| DATE_year|DATE_time|real_tmp|real_tmp_status|\n",
      "+---------+---------+----------+---------+--------+---------------+\n",
      "|826099999|WXPOD8270|2008-01-01| 00:00:00|   +0020|              1|\n",
      "|826099999|WXPOD8270|2008-01-01| 00:53:00|   +9999|              9|\n",
      "|826099999|WXPOD8270|2008-01-01| 00:53:00|   +9999|              9|\n",
      "|826099999|WXPOD8270|2008-01-01| 01:00:00|   +0010|              1|\n",
      "|826099999|WXPOD8270|2008-01-01| 01:53:00|   +0030|              1|\n",
      "|826099999|WXPOD8270|2008-01-01| 01:53:00|   +9999|              9|\n",
      "|826099999|WXPOD8270|2008-01-01| 02:00:00|   +0010|              1|\n",
      "|826099999|WXPOD8270|2008-01-01| 02:53:00|   +0020|              1|\n",
      "|826099999|WXPOD8270|2008-01-01| 02:53:00|   +9999|              9|\n",
      "|826099999|WXPOD8270|2008-01-01| 03:00:00|   +0017|              1|\n",
      "|826099999|WXPOD8270|2008-01-01| 03:53:00|   +0010|              1|\n",
      "|826099999|WXPOD8270|2008-01-01| 03:53:00|   +9999|              9|\n",
      "|826099999|WXPOD8270|2008-01-01| 04:00:00|   -0030|              1|\n",
      "|826099999|WXPOD8270|2008-01-01| 04:53:00|   +0000|              1|\n",
      "|826099999|WXPOD8270|2008-01-01| 04:53:00|   +9999|              9|\n",
      "|826099999|WXPOD8270|2008-01-01| 05:00:00|   -0040|              1|\n",
      "|826099999|WXPOD8270|2008-01-01| 05:53:00|   +0010|              1|\n",
      "|826099999|WXPOD8270|2008-01-01| 05:53:00|   +9999|              9|\n",
      "|826099999|WXPOD8270|2008-01-01| 06:00:00|   -0040|              1|\n",
      "|826099999|WXPOD8270|2008-01-01| 06:53:00|   +0000|              1|\n",
      "+---------+---------+----------+---------+--------+---------------+\n",
      "only showing top 20 rows\n",
      "\n"
     ]
    }
   ],
   "source": [
    "df3 = df2.withColumn(\"real_tmp\", F.split(df2[\"TMP\"], \",\")[0])\n",
    "df3 = df3.withColumn(\"real_tmp_status\", F.split(df2[\"TMP\"], \",\")[1])\n",
    "df3 = df3.drop(\"TMP\")\n",
    "df3.show()"
   ]
  },
  {
   "cell_type": "code",
   "execution_count": 10,
   "id": "ff2d6918",
   "metadata": {},
   "outputs": [
    {
     "name": "stdout",
     "output_type": "stream",
     "text": [
      "+---------+---------+----------+---------+--------+---------------+\n",
      "|  STATION|     NAME| DATE_year|DATE_time|real_tmp|real_tmp_status|\n",
      "+---------+---------+----------+---------+--------+---------------+\n",
      "|826099999|WXPOD8270|2008-01-01| 00:00:00|     2.0|              1|\n",
      "|826099999|WXPOD8270|2008-01-01| 00:53:00|   999.9|              9|\n",
      "|826099999|WXPOD8270|2008-01-01| 00:53:00|   999.9|              9|\n",
      "|826099999|WXPOD8270|2008-01-01| 01:00:00|     1.0|              1|\n",
      "|826099999|WXPOD8270|2008-01-01| 01:53:00|     3.0|              1|\n",
      "|826099999|WXPOD8270|2008-01-01| 01:53:00|   999.9|              9|\n",
      "|826099999|WXPOD8270|2008-01-01| 02:00:00|     1.0|              1|\n",
      "|826099999|WXPOD8270|2008-01-01| 02:53:00|     2.0|              1|\n",
      "|826099999|WXPOD8270|2008-01-01| 02:53:00|   999.9|              9|\n",
      "|826099999|WXPOD8270|2008-01-01| 03:00:00|     1.7|              1|\n",
      "|826099999|WXPOD8270|2008-01-01| 03:53:00|     1.0|              1|\n",
      "|826099999|WXPOD8270|2008-01-01| 03:53:00|   999.9|              9|\n",
      "|826099999|WXPOD8270|2008-01-01| 04:00:00|    -3.0|              1|\n",
      "|826099999|WXPOD8270|2008-01-01| 04:53:00|     0.0|              1|\n",
      "|826099999|WXPOD8270|2008-01-01| 04:53:00|   999.9|              9|\n",
      "|826099999|WXPOD8270|2008-01-01| 05:00:00|    -4.0|              1|\n",
      "|826099999|WXPOD8270|2008-01-01| 05:53:00|     1.0|              1|\n",
      "|826099999|WXPOD8270|2008-01-01| 05:53:00|   999.9|              9|\n",
      "|826099999|WXPOD8270|2008-01-01| 06:00:00|    -4.0|              1|\n",
      "|826099999|WXPOD8270|2008-01-01| 06:53:00|     0.0|              1|\n",
      "+---------+---------+----------+---------+--------+---------------+\n",
      "only showing top 20 rows\n",
      "\n"
     ]
    }
   ],
   "source": [
    "df3 = df3.withColumn(\"real_tmp\", F.col(\"real_tmp\").cast(\"float\")/10)\n",
    "df3.show()\n"
   ]
  },
  {
   "cell_type": "code",
   "execution_count": 11,
   "id": "a658926b",
   "metadata": {},
   "outputs": [
    {
     "name": "stderr",
     "output_type": "stream",
     "text": [
      "[Stage 17:=====================================================>  (25 + 1) / 26]\r"
     ]
    },
    {
     "name": "stdout",
     "output_type": "stream",
     "text": [
      "+----------+----------+-------------------+-------+-------+\n",
      "|   STATION| DATE_year|               name|max_tmp|min_tmp|\n",
      "+----------+----------+-------------------+-------+-------+\n",
      "| 826099999|2008-05-25|          WXPOD8270|  999.9|    7.0|\n",
      "| 826099999|2008-07-20|          WXPOD8270|  999.9|   19.0|\n",
      "| 826099999|2008-11-19|          WXPOD8270|  999.9|   -4.0|\n",
      "|1001499999|2008-01-09|     SORSTOKKEN, NO|    5.0|    1.0|\n",
      "|1001499999|2008-12-02|     SORSTOKKEN, NO|    4.0|   -1.0|\n",
      "|1001499999|2008-12-19|     SORSTOKKEN, NO|    5.0|    4.0|\n",
      "|1003099999|2008-03-22|       HORNSUND, NO|  -14.2|  -21.6|\n",
      "|1003099999|2008-09-21|       HORNSUND, NO|    7.1|    4.7|\n",
      "|1007099999|2008-11-04|     NY ALESUND, SV|   -5.3|   -9.9|\n",
      "|1007099999|2008-11-06|     NY ALESUND, SV|   -3.2|   -9.3|\n",
      "|1008099999|2008-01-16|       LONGYEAR, SV|   -1.0|   -3.0|\n",
      "|1008099999|2008-08-30|       LONGYEAR, SV|    5.0|    2.0|\n",
      "|1008099999|2008-11-21|       LONGYEAR, SV|  999.9|   -8.0|\n",
      "|1014099999|2008-03-17|SENJA LAUKHELLA, NO|    0.8|   -0.7|\n",
      "|1014099999|2008-07-08|SENJA LAUKHELLA, NO|   12.9|    8.3|\n",
      "|1015099999|2008-01-25|  HEKKINGEN FYR, NO|    3.1|   -0.9|\n",
      "|1015099999|2008-10-24|  HEKKINGEN FYR, NO|    8.4|    5.3|\n",
      "|1023199999|2008-10-20|        DRAUGEN, NO|   12.0|   10.0|\n",
      "|1023199999|2008-11-25|        DRAUGEN, NO|    6.0|    5.0|\n",
      "|1025099999|2008-04-10|         TROMSO, NO|    0.1|   -8.0|\n",
      "+----------+----------+-------------------+-------+-------+\n",
      "only showing top 20 rows\n",
      "\n"
     ]
    },
    {
     "name": "stderr",
     "output_type": "stream",
     "text": [
      "                                                                                \r"
     ]
    }
   ],
   "source": [
    "df4 = df3\n",
    "#df4.groupby('STATION', 'DATE_year').agg({\"real_tmp\":\"max\"}).show()\n",
    "df5 = df4.groupby('STATION', 'DATE_year','name').agg(F.max(df4.real_tmp).alias('max_tmp'),F.min(df4.real_tmp).alias('min_tmp'))\n",
    "df5.show()"
   ]
  },
  {
   "cell_type": "code",
   "execution_count": 12,
   "id": "86f4254b",
   "metadata": {},
   "outputs": [
    {
     "name": "stderr",
     "output_type": "stream",
     "text": [
      "                                                                                \r"
     ]
    },
    {
     "name": "stdout",
     "output_type": "stream",
     "text": [
      "999.9\n"
     ]
    },
    {
     "name": "stderr",
     "output_type": "stream",
     "text": [
      "                                                                                \r"
     ]
    },
    {
     "name": "stdout",
     "output_type": "stream",
     "text": [
      "999.9\n"
     ]
    },
    {
     "name": "stderr",
     "output_type": "stream",
     "text": [
      "                                                                                \r"
     ]
    },
    {
     "name": "stdout",
     "output_type": "stream",
     "text": [
      "-80.7\n"
     ]
    },
    {
     "name": "stderr",
     "output_type": "stream",
     "text": [
      "                                                                                \r"
     ]
    },
    {
     "name": "stdout",
     "output_type": "stream",
     "text": [
      "-80.7\n"
     ]
    },
    {
     "name": "stderr",
     "output_type": "stream",
     "text": [
      "                                                                                \r"
     ]
    },
    {
     "name": "stdout",
     "output_type": "stream",
     "text": [
      "number of lines before prepocessing 354076\n"
     ]
    },
    {
     "name": "stderr",
     "output_type": "stream",
     "text": [
      "                                                                                \r"
     ]
    },
    {
     "name": "stdout",
     "output_type": "stream",
     "text": [
      "number of lines after prepocessing 333454\n"
     ]
    }
   ],
   "source": [
    "print(df5.select(\"max_tmp\").rdd.max()[0])\n",
    "print(df5.select(\"min_tmp\").rdd.max()[0])\n",
    "print(df5.select(\"max_tmp\").rdd.min()[0])\n",
    "print(df5.select(\"min_tmp\").rdd.min()[0])\n",
    "#number of lines before prepocessing\n",
    "print(\"number of lines before prepocessing\",df5.count())\n",
    "#number of lines after prepocessing\n",
    "df6 = df5.filter(df5[\"max_tmp\"] != 999.9)\n",
    "df7 = df6.filter(df6[\"min_tmp\"] != 999.9)\n",
    "df7 = df6.filter(df6[\"max_tmp\"] != -80.7)\n",
    "df7 = df6.filter(df6[\"min_tmp\"] != -80.7)\n",
    "print(\"number of lines after prepocessing\", df7.count())\n"
   ]
  },
  {
   "cell_type": "code",
   "execution_count": 13,
   "id": "61d513ca",
   "metadata": {},
   "outputs": [
    {
     "name": "stderr",
     "output_type": "stream",
     "text": [
      "[Stage 44:=====================================================>  (25 + 1) / 26]\r"
     ]
    },
    {
     "name": "stdout",
     "output_type": "stream",
     "text": [
      "+----------+----------+-------------------+-------+-------+------------------+\n",
      "|   STATION| DATE_year|               name|max_tmp|min_tmp|          diff_tmp|\n",
      "+----------+----------+-------------------+-------+-------+------------------+\n",
      "|1001499999|2008-01-09|     SORSTOKKEN, NO|    5.0|    1.0|               4.0|\n",
      "|1001499999|2008-12-02|     SORSTOKKEN, NO|    4.0|   -1.0|               5.0|\n",
      "|1001499999|2008-12-19|     SORSTOKKEN, NO|    5.0|    4.0|               1.0|\n",
      "|1003099999|2008-03-22|       HORNSUND, NO|  -14.2|  -21.6| 7.400000000000002|\n",
      "|1003099999|2008-09-21|       HORNSUND, NO|    7.1|    4.7|2.3999999999999995|\n",
      "|1007099999|2008-11-04|     NY ALESUND, SV|   -5.3|   -9.9|4.6000000000000005|\n",
      "|1007099999|2008-11-06|     NY ALESUND, SV|   -3.2|   -9.3|6.1000000000000005|\n",
      "|1008099999|2008-01-16|       LONGYEAR, SV|   -1.0|   -3.0|               2.0|\n",
      "|1008099999|2008-08-30|       LONGYEAR, SV|    5.0|    2.0|               3.0|\n",
      "|1014099999|2008-03-17|SENJA LAUKHELLA, NO|    0.8|   -0.7|               1.5|\n",
      "|1014099999|2008-07-08|SENJA LAUKHELLA, NO|   12.9|    8.3|               4.6|\n",
      "|1015099999|2008-01-25|  HEKKINGEN FYR, NO|    3.1|   -0.9|               4.0|\n",
      "|1015099999|2008-10-24|  HEKKINGEN FYR, NO|    8.4|    5.3|3.1000000000000005|\n",
      "|1023199999|2008-10-20|        DRAUGEN, NO|   12.0|   10.0|               2.0|\n",
      "|1023199999|2008-11-25|        DRAUGEN, NO|    6.0|    5.0|               1.0|\n",
      "|1025099999|2008-04-10|         TROMSO, NO|    0.1|   -8.0|               8.1|\n",
      "|1025099999|2008-10-14|         TROMSO, NO|    7.1|    1.9| 5.199999999999999|\n",
      "|1026099999|2008-11-11|         TROMSO, NO|    3.2|    0.7|               2.5|\n",
      "|1033099999|2008-05-16|    TORSVAG FYR, NO|    4.5|    1.4|               3.1|\n",
      "|1033099999|2008-08-17|    TORSVAG FYR, NO|   11.2|    7.7| 3.499999999999999|\n",
      "+----------+----------+-------------------+-------+-------+------------------+\n",
      "only showing top 20 rows\n",
      "\n"
     ]
    },
    {
     "name": "stderr",
     "output_type": "stream",
     "text": [
      "                                                                                \r"
     ]
    }
   ],
   "source": [
    "df8 = df7.withColumn(\"diff_tmp\", F.abs(df7[\"max_tmp\"]-df7[\"min_tmp\"]))\n",
    "df8.show()"
   ]
  },
  {
   "cell_type": "code",
   "execution_count": 14,
   "id": "8b1b346a",
   "metadata": {},
   "outputs": [
    {
     "name": "stderr",
     "output_type": "stream",
     "text": [
      "[Stage 49:>                                                         (0 + 2) / 2]\r"
     ]
    },
    {
     "name": "stdout",
     "output_type": "stream",
     "text": [
      "+----------+----------+--------------------+-------+-------+--------+\n",
      "|   STATION| DATE_year|                name|max_tmp|min_tmp|diff_tmp|\n",
      "+----------+----------+--------------------+-------+-------+--------+\n",
      "|1074099999|2007-02-18|          MEHAMN, NO|   -4.0|  -45.0|    41.0|\n",
      "|1065099999|2014-12-10|        KARASJOK, NO|    1.9|  -30.2|    32.1|\n",
      "|1102599999|2000-01-28|         HEIDRUN, NO|   28.0|   -4.0|    32.0|\n",
      "|1065099999|2017-02-12|        KARASJOK, NO|    4.0|  -27.9|    31.9|\n",
      "|1065099999|2015-01-06|        KARASJOK, NO|   -6.8|  -37.7|    30.9|\n",
      "|1045099999|2014-05-22|NORDSTRAUM I KVAE...|   32.7|    2.3|    30.4|\n",
      "|1065099999|2016-01-14|        KARASJOK, NO|   -4.0|  -34.3|    30.3|\n",
      "|1088299999|2010-03-01|           ROROS, NO|    2.0|  -28.0|    30.0|\n",
      "|1088299999|2010-02-24|           ROROS, NO|   -6.0|  -36.0|    30.0|\n",
      "|1065099999|2017-12-01|        KARASJOK, NO|   -2.9|  -32.8|    29.9|\n",
      "|1065099999|2006-12-20|        KARASJOK, NO|   -0.5|  -30.3|    29.8|\n",
      "|1065099999|2019-12-11|        KARASJOK, NO|   -3.1|  -32.4|    29.3|\n",
      "|1088299999|2010-03-06|           ROROS, NO|   -4.0|  -33.0|    29.0|\n",
      "|1088299999|2010-02-03|           ROROS, NO|   -7.0|  -36.0|    29.0|\n",
      "| 701899999|2011-04-30|          WXPOD 7018|   38.0|    9.0|    29.0|\n",
      "|1065099999|2013-12-10|        KARASJOK, NO|   -6.9|  -35.4|    28.5|\n",
      "|1065099999|2013-03-16|        KARASJOK, NO|   -8.3|  -36.8|    28.5|\n",
      "|1023099999|2017-12-01|       BARDUFOSS, NO|    4.0|  -24.3|    28.3|\n",
      "| 701899999|2011-06-04|          WXPOD 7018|   43.0|   15.0|    28.0|\n",
      "|1058099999|2018-03-16|SUOLOVUOPMI LULIT...|   -3.7|  -31.7|    28.0|\n",
      "+----------+----------+--------------------+-------+-------+--------+\n",
      "only showing top 20 rows\n",
      "\n"
     ]
    },
    {
     "name": "stderr",
     "output_type": "stream",
     "text": [
      "                                                                                \r"
     ]
    }
   ],
   "source": [
    "#List the 10 days with the biggest daily temperature differences\n",
    "df8 = df8.withColumn(\"diff_tmp\", F.round(df8[\"diff_tmp\"], 2))\n",
    "df9 = df8.orderBy(F.col(\"diff_tmp\").desc())\n",
    "df9.show()"
   ]
  },
  {
   "cell_type": "code",
   "execution_count": 15,
   "id": "7e2e53b2",
   "metadata": {},
   "outputs": [
    {
     "name": "stderr",
     "output_type": "stream",
     "text": [
      "                                                                                \r"
     ]
    },
    {
     "data": {
      "text/plain": [
       "['MEHAMN, NO:2007-02-18',\n",
       " 'KARASJOK, NO:2014-12-10',\n",
       " 'HEIDRUN, NO:2000-01-28',\n",
       " 'KARASJOK, NO:2017-02-12',\n",
       " 'KARASJOK, NO:2015-01-06',\n",
       " 'NORDSTRAUM I KVAENANGEN, NO:2014-05-22',\n",
       " 'KARASJOK, NO:2016-01-14',\n",
       " 'ROROS, NO:2010-02-24',\n",
       " 'ROROS, NO:2010-03-01',\n",
       " 'KARASJOK, NO:2017-12-01']"
      ]
     },
     "execution_count": 15,
     "metadata": {},
     "output_type": "execute_result"
    }
   ],
   "source": [
    "import matplotlib.pyplot as plt\n",
    "names = df9.select(\"name\").take(10)\n",
    "names = [row.name for row in names]\n",
    "diff_tmps = df9.select(\"diff_tmp\").take(10)\n",
    "diff_tmps = [row.diff_tmp for row in diff_tmps]\n",
    "date = df9.select(\"DATE_year\").take(10)\n",
    "date = [row.DATE_year for row in date]\n",
    "merged_list = [str(i) + ':' + str(j) for i, j in zip(names, date)]\n",
    "merged_list"
   ]
  },
  {
   "cell_type": "code",
   "execution_count": 16,
   "id": "0de8b65d",
   "metadata": {},
   "outputs": [
    {
     "data": {
      "image/png": "[encoded data removed]",
      "text/plain": [
       "<Figure size 1200x400 with 1 Axes>"
      ]
     },
     "metadata": {},
     "output_type": "display_data"
    }
   ],
   "source": [
    "import numpy as np\n",
    "x1=[1,1,2,3,4]\n",
    "y1=[1,2,2,3,4]\n",
    "plt.figure(figsize=(12,4))  \n",
    "#plt.xticks(rotation=90)\n",
    "plt.barh(merged_list,diff_tmps)\n",
    "plt.xticks(np.arange(0,27,1))\n",
    "for i in range(len(diff_tmps)):\n",
    "    plt.text(diff_tmps[i], merged_list[i], str(diff_tmps[i]), ha='left')\n",
    "plt.title('The biggest temperature difference in the 10 days from 2000 to 2023')\n",
    "plt.xlabel('temperature difference')\n",
    "plt.ylabel('City, Country')\n",
    "plt.grid()\n",
    "plt.show()"
   ]
  },
  {
   "cell_type": "code",
   "execution_count": 17,
   "id": "cd0c5774",
   "metadata": {},
   "outputs": [
    {
     "name": "stdout",
     "output_type": "stream",
     "text": [
      "duration:  398.0982735157013\n"
     ]
    }
   ],
   "source": [
    "len(merged_list)\n",
    "end = time.time()\n",
    "print('duration: ',end - start)"
   ]
  },
  {
   "cell_type": "code",
   "execution_count": null,
   "id": "1e747e57",
   "metadata": {},
   "outputs": [],
   "source": []
  },
  {
   "cell_type": "code",
   "execution_count": null,
   "id": "1f447f45",
   "metadata": {},
   "outputs": [],
   "source": []
  },
  {
   "cell_type": "code",
   "execution_count": null,
   "id": "de0ab156",
   "metadata": {},
   "outputs": [],
   "source": []
  }
 ],
 "metadata": {
  "kernelspec": {
   "display_name": "Python 3 (ipykernel)",
   "language": "python",
   "name": "python3"
  },
  "language_info": {
   "codemirror_mode": {
    "name": "ipython",
    "version": 3
   },
   "file_extension": ".py",
   "mimetype": "text/x-python",
   "name": "python",
   "nbconvert_exporter": "python",
   "pygments_lexer": "ipython3",
   "version": "3.10.6"
  }
 },
 "nbformat": 4,
 "nbformat_minor": 5
}
