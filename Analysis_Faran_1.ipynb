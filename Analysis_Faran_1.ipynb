{
 "cells": [
  {
   "cell_type": "code",
   "execution_count": null,
   "id": "2872c70b",
   "metadata": {},
   "outputs": [],
   "source": [
    "from pyspark.sql import SparkSession\n",
    "\n",
    "\n",
    "spark_session_low_perf = SparkSession.builder\\\n",
    "        .master(\"spark://192.168.2.43:7077\") \\\n",
    "        .appName(\"Analytics_SG\")\\\n",
    "        .config(\"spark.dynamicAllocation.enabled\", True)\\\n",
    "        .config(\"spark.dynamicAllocation.shuffleTracking.enabled\",True)\\\n",
    "        .config(\"spark.dynamicAllocation.executorIdleTimeout\",\"30s\")\\\n",
    "        .config(\"spark.executor.instances\", 1)\\\n",
    "        .config(\"spark.cores.max\", 1)\\\n",
    "        .getOrCreate()"
   ]
  },
  {
   "cell_type": "code",
   "execution_count": null,
   "id": "6f53b595",
   "metadata": {},
   "outputs": [],
   "source": [
    "from pyspark.sql import SparkSession\n",
    "\n",
    "\n",
    "spark_session_single_executor = SparkSession.builder\\\n",
    "        .master(\"spark://192.168.2.43:7077\") \\\n",
    "        .appName(\"Analytics_SG\")\\\n",
    "        .config(\"spark.dynamicAllocation.enabled\", True)\\\n",
    "        .config(\"spark.dynamicAllocation.shuffleTracking.enabled\",True)\\\n",
    "        .config(\"spark.dynamicAllocation.executorIdleTimeout\",\"30s\")\\\n",
    "        .config(\"spark.executor.instances\", 1)\\\n",
    "        .getOrCreate()"
   ]
  },
  {
   "cell_type": "code",
   "execution_count": 1,
   "id": "3ac9df06",
   "metadata": {},
   "outputs": [
    {
     "name": "stderr",
     "output_type": "stream",
     "text": [
      "Setting default log level to \"WARN\".\n",
      "To adjust logging level use sc.setLogLevel(newLevel). For SparkR, use setLogLevel(newLevel).\n"
     ]
    },
    {
     "name": "stdout",
     "output_type": "stream",
     "text": [
      "23/03/22 04:29:28 WARN NativeCodeLoader: Unable to load native-hadoop library for your platform... using builtin-java classes where applicable\n"
     ]
    }
   ],
   "source": [
    "from pyspark.sql import SparkSession\n",
    "\n",
    "\n",
    "spark_session_two_executors_low_perf = SparkSession.builder\\\n",
    "        .master(\"spark://192.168.2.43:7077\") \\\n",
    "        .appName(\"Analytics_SG\")\\\n",
    "        .config(\"spark.dynamicAllocation.enabled\", True)\\\n",
    "        .config(\"spark.dynamicAllocation.shuffleTracking.enabled\",True)\\\n",
    "        .config(\"spark.dynamicAllocation.executorIdleTimeout\",\"30s\")\\\n",
    "        .config(\"spark.executor.instances\", 2)\\\n",
    "        .config(\"spark.cores.max\", 2)\\\n",
    "        .getOrCreate()"
   ]
  },
  {
   "cell_type": "code",
   "execution_count": null,
   "id": "0b38187f",
   "metadata": {},
   "outputs": [],
   "source": [
    "from pyspark.sql import SparkSession\n",
    "\n",
    "\n",
    "spark_session_max = SparkSession.builder\\\n",
    "        .master(\"spark://192.168.2.43:7077\") \\\n",
    "        .appName(\"Analytics_SG\")\\\n",
    "        .config(\"spark.dynamicAllocation.enabled\", True)\\\n",
    "        .config(\"spark.dynamicAllocation.shuffleTracking.enabled\",True)\\\n",
    "        .config(\"spark.dynamicAllocation.executorIdleTimeout\",\"30s\")\\\n",
    "        .config(\"spark.executor.instances\", 2)\\\n",
    "        .config(\"spark.cores.max\", 4)\\\n",
    "        .getOrCreate()"
   ]
  },
  {
   "cell_type": "code",
   "execution_count": 2,
   "id": "6ba2ac68",
   "metadata": {},
   "outputs": [
    {
     "name": "stderr",
     "output_type": "stream",
     "text": [
      "                                                                                \r"
     ]
    }
   ],
   "source": [
    "from pyspark.sql import functions as F\n",
    "\n",
    "rdd_2000 = spark_session_two_executors_low_perf.read.csv(\"hdfs://192.168.2.43:9000/user/root/data/2000/merge.csv\", header = True)"
   ]
  },
  {
   "cell_type": "code",
   "execution_count": 3,
   "id": "e96035f1",
   "metadata": {},
   "outputs": [
    {
     "name": "stdout",
     "output_type": "stream",
     "text": [
      "23/03/22 04:29:52 WARN package: Truncated the string representation of a plan since it was too large. This behavior can be adjusted by setting 'spark.sql.debug.maxToStringFields'.\n"
     ]
    },
    {
     "name": "stderr",
     "output_type": "stream",
     "text": [
      "                                                                                \r"
     ]
    },
    {
     "data": {
      "text/plain": [
       "[Row(STATION='01001099999', DATE='2000-01-01T00:00:00', SOURCE='4', LATITUDE='70.9333333', LONGITUDE='-8.6666667', ELEVATION='9.0', NAME='JAN MAYEN NOR NAVY, NO', REPORT_TYPE='FM-12', CALL_SIGN='ENJA ', QUALITY_CONTROL='V020', WND='210,1,N,0021,1', CIG='00210,1,9,N', VIS='002500,1,N,1', TMP='+0010,1', DEW='+0003,1', SLP='09818,1', AA1='06,0041,9,1', AY1='8,1,06,1', AY2='5,1,06,1', GA1=None, GF1='08,99,1,08,1,06,1,00250,1,99,9,99,9', KA1=None, MA1='99999,9,09806,1', MD1='5,1,007,1,+999,9', MW1='50,1', OA1=None, OA2=None, SA1=None, UA1=None, REM='SYN088AAXX  01004 01001 11325 82104 10010 20003 39806 49818 55007 60041 75085 886// 333 91119;', EQD=None),\n",
       " Row(STATION='01001099999', DATE='2000-01-01T06:00:00', SOURCE='4', LATITUDE='70.9333333', LONGITUDE='-8.6666667', ELEVATION='9.0', NAME='JAN MAYEN NOR NAVY, NO', REPORT_TYPE='FM-12', CALL_SIGN='ENJA ', QUALITY_CONTROL='V020', WND='250,1,N,0036,1', CIG='00750,1,9,N', VIS='025000,1,N,1', TMP='+0012,1', DEW='-0022,1', SLP='09865,1', AA1='12,0041,9,1', AY1='5,1,06,1', AY2='2,1,06,1', GA1=None, GF1='07,99,1,07,1,05,1,00800,1,99,9,99,9', KA1='120,N,+0009,1', MA1='99999,9,09853,1', MD1='3,1,023,1,+999,9', MW1='01,1', OA1=None, OA2=None, SA1=None, UA1=None, REM='SYN094AAXX  01064 01001 11575 72507 10012 21022 39853 49865 53023 60042 70152 875// 333 20009 91116;', EQD=None),\n",
       " Row(STATION='01001099999', DATE='2000-01-01T09:00:00', SOURCE='4', LATITUDE='70.9333333', LONGITUDE='-8.6666667', ELEVATION='9.0', NAME='JAN MAYEN NOR NAVY, NO', REPORT_TYPE='FM-12', CALL_SIGN='ENJA ', QUALITY_CONTROL='V020', WND='210,1,N,0005,1', CIG='22000,1,9,N', VIS='030000,1,N,1', TMP='-0002,1', DEW='-0035,1', SLP='09884,1', AA1=None, AY1=None, AY2=None, GA1=None, GF1='01,99,1,01,1,05,1,01250,1,00,1,00,1', KA1=None, MA1='99999,9,09873,1', MD1='3,1,020,1,+999,9', MW1=None, OA1=None, OA2=None, SA1=None, UA1=None, REM='SYN066AAXX  01094 01001 42680 12101 11002 21035 39873 49884 53020 81500;', EQD=None),\n",
       " Row(STATION='01001099999', DATE='2000-01-01T12:00:00', SOURCE='4', LATITUDE='70.9333333', LONGITUDE='-8.6666667', ELEVATION='9.0', NAME='JAN MAYEN NOR NAVY, NO', REPORT_TYPE='FM-12', CALL_SIGN='ENJA ', QUALITY_CONTROL='V020', WND='280,1,N,0005,1', CIG='22000,1,9,N', VIS='020000,1,N,1', TMP='-0011,1', DEW='-0052,1', SLP='09895,1', AA1='06,0000,9,1', AY1='0,1,06,1', AY2='0,1,06,1', GA1=None, GF1='01,99,1,01,1,06,1,00150,1,00,1,08,1', KA1=None, MA1='99999,9,09884,1', MD1='1,1,011,1,+999,9', MW1='40,1', OA1=None, OA2=None, SA1='+005,9', UA1=None, REM='SYN094AAXX  01124 01001 31270 12801 11011 21052 39884 49895 51011 74000 81608 222// 00005 333 91112;', EQD='Q01  00002PRCP06'),\n",
       " Row(STATION='01001099999', DATE='2000-01-01T15:00:00', SOURCE='4', LATITUDE='70.9333333', LONGITUDE='-8.6666667', ELEVATION='9.0', NAME='JAN MAYEN NOR NAVY, NO', REPORT_TYPE='FM-12', CALL_SIGN='ENJA ', QUALITY_CONTROL='V020', WND='080,1,N,0005,1', CIG='22000,1,9,N', VIS='025000,1,N,1', TMP='-0026,1', DEW='-0058,1', SLP='09892,1', AA1=None, AY1='0,1,03,1', AY2='0,1,03,1', GA1=None, GF1='01,99,1,01,1,06,1,00150,1,03,1,08,1', KA1=None, MA1='99999,9,09880,1', MD1='8,1,004,1,+999,9', MW1='40,1', OA1=None, OA2=None, SA1=None, UA1=None, REM='SYN072AAXX  01154 01001 41275 10801 11026 21058 39880 49892 58004 74000 81638;', EQD=None),\n",
       " Row(STATION='01001099999', DATE='2000-01-01T18:00:00', SOURCE='4', LATITUDE='70.9333333', LONGITUDE='-8.6666667', ELEVATION='9.0', NAME='JAN MAYEN NOR NAVY, NO', REPORT_TYPE='FM-12', CALL_SIGN='ENJA ', QUALITY_CONTROL='V020', WND='140,1,N,0015,1', CIG='22000,1,9,N', VIS='025000,1,N,1', TMP='-0005,1', DEW='-0017,1', SLP='09881,1', AA1='06,0000,9,1', AY1=None, AY2=None, GA1=None, GF1='01,99,1,01,1,06,1,00150,1,00,1,00,1', KA1='120,M,+0012,1', MA1='99999,9,09869,1', MD1='8,1,011,1,+999,9', MW1=None, OA1=None, OA2=None, SA1=None, UA1=None, REM='SYN082AAXX  01184 01001 32275 11403 11005 21017 39869 49881 58011 81600 333 10012 91105;', EQD='Q01  00002PRCP06'),\n",
       " Row(STATION='01001099999', DATE='2000-01-01T21:00:00', SOURCE='4', LATITUDE='70.9333333', LONGITUDE='-8.6666667', ELEVATION='9.0', NAME='JAN MAYEN NOR NAVY, NO', REPORT_TYPE='FM-12', CALL_SIGN='ENJA ', QUALITY_CONTROL='V020', WND='100,1,N,0031,1', CIG='99999,9,9,N', VIS='999999,9,N,1', TMP='-0002,1', DEW='-0037,1', SLP='09861,1', AA1=None, AY1=None, AY2=None, GA1=None, GF1=None, KA1=None, MA1='99999,9,09849,1', MD1='8,1,020,1,+999,9', MW1=None, OA1=None, OA2=None, SA1=None, UA1=None, REM='SYN060AAXX  01214 01001 46/// /1006 11002 21037 39849 49861 58020;', EQD=None),\n",
       " Row(STATION='01001099999', DATE='2000-01-02T00:00:00', SOURCE='4', LATITUDE='70.9333333', LONGITUDE='-8.6666667', ELEVATION='9.0', NAME='JAN MAYEN NOR NAVY, NO', REPORT_TYPE='FM-12', CALL_SIGN='ENJA ', QUALITY_CONTROL='V020', WND='290,1,N,0021,1', CIG='22000,1,9,N', VIS='030000,1,N,1', TMP='-0009,1', DEW='-0079,1', SLP='09825,1', AA1='06,0000,9,1', AY1=None, AY2=None, GA1=None, GF1='01,99,1,01,1,06,1,00250,1,00,1,00,1', KA1=None, MA1='99999,9,09814,1', MD1='8,1,035,1,+999,9', MW1=None, OA1=None, OA2=None, SA1=None, UA1=None, REM='SYN076AAXX  02004 01001 32380 12904 11009 21079 39814 49825 58035 81600 333 91111;', EQD='Q01  00002PRCP06'),\n",
       " Row(STATION='01001099999', DATE='2000-01-02T03:00:00', SOURCE='4', LATITUDE='70.9333333', LONGITUDE='-8.6666667', ELEVATION='9.0', NAME='JAN MAYEN NOR NAVY, NO', REPORT_TYPE='FM-12', CALL_SIGN='ENJA ', QUALITY_CONTROL='V020', WND='350,1,N,0057,1', CIG='99999,9,9,N', VIS='999999,9,N,1', TMP='-0011,1', DEW='-0052,1', SLP='09802,1', AA1=None, AY1=None, AY2=None, GA1=None, GF1=None, KA1=None, MA1='99999,9,09790,1', MD1='8,1,024,1,+999,9', MW1=None, OA1=None, OA2=None, SA1=None, UA1=None, REM='SYN060AAXX  02034 01001 46/// /3511 11011 21052 39790 49802 58024;', EQD=None),\n",
       " Row(STATION='01001099999', DATE='2000-01-02T06:00:00', SOURCE='4', LATITUDE='70.9333333', LONGITUDE='-8.6666667', ELEVATION='9.0', NAME='JAN MAYEN NOR NAVY, NO', REPORT_TYPE='FM-12', CALL_SIGN='ENJA ', QUALITY_CONTROL='V020', WND='360,1,N,0077,1', CIG='02400,1,9,N', VIS='030000,1,N,1', TMP='-0015,1', DEW='-0034,1', SLP='09789,1', AA1='06,0000,9,1', AY1=None, AY2=None, GA1=None, GF1='08,99,1,03,1,05,1,00450,1,07,1,99,9', KA1='120,N,-0015,1', MA1='99999,9,09777,1', MD1='6,1,013,1,+999,9', MW1=None, OA1=None, OA2=None, SA1=None, UA1=None, REM='SYN082AAXX  02064 01001 32480 83615 11015 21034 39777 49789 56013 8357/ 333 21015 91123;', EQD='Q01  00002PRCP06')]"
      ]
     },
     "execution_count": 3,
     "metadata": {},
     "output_type": "execute_result"
    }
   ],
   "source": [
    "rdd_2000.take(10)"
   ]
  },
  {
   "cell_type": "code",
   "execution_count": 4,
   "id": "71602d8c",
   "metadata": {},
   "outputs": [
    {
     "data": {
      "text/plain": [
       "Row(STATION='01001099999', DATE='2000-01-01T00:00:00', SOURCE='4', LATITUDE='70.9333333', LONGITUDE='-8.6666667', ELEVATION='9.0', NAME='JAN MAYEN NOR NAVY, NO', REPORT_TYPE='FM-12', CALL_SIGN='ENJA ', QUALITY_CONTROL='V020', WND='210,1,N,0021,1', CIG='00210,1,9,N', VIS='002500,1,N,1', TMP='+0010,1', DEW='+0003,1', SLP='09818,1', AA1='06,0041,9,1', AY1='8,1,06,1', AY2='5,1,06,1', GA1=None, GF1='08,99,1,08,1,06,1,00250,1,99,9,99,9', KA1=None, MA1='99999,9,09806,1', MD1='5,1,007,1,+999,9', MW1='50,1', OA1=None, OA2=None, SA1=None, UA1=None, REM='SYN088AAXX  01004 01001 11325 82104 10010 20003 39806 49818 55007 60041 75085 886// 333 91119;', EQD=None)"
      ]
     },
     "execution_count": 4,
     "metadata": {},
     "output_type": "execute_result"
    }
   ],
   "source": [
    "rdd_2000.head()"
   ]
  },
  {
   "cell_type": "code",
   "execution_count": 5,
   "id": "5588a8cb",
   "metadata": {},
   "outputs": [],
   "source": [
    "from pyspark.sql.functions import regexp_extract\n",
    "from pyspark.sql.functions import avg\n",
    "import time"
   ]
  },
  {
   "cell_type": "code",
   "execution_count": 6,
   "id": "8115c8cf",
   "metadata": {},
   "outputs": [
    {
     "data": {
      "text/plain": [
       "[Row(STATION='01001099999', DATE='2000-01-01T00:00:00', SOURCE='4', LATITUDE='70.9333333', LONGITUDE='-8.6666667', ELEVATION='9.0', NAME='JAN MAYEN NOR NAVY, NO', REPORT_TYPE='FM-12', CALL_SIGN='ENJA ', QUALITY_CONTROL='V020', WND='210,1,N,0021,1', CIG='00210,1,9,N', VIS='002500,1,N,1', DEW='+0003,1', SLP='09818,1', AA1='06,0041,9,1', AY1='8,1,06,1', AY2='5,1,06,1', GA1=None, GF1='08,99,1,08,1,06,1,00250,1,99,9,99,9', KA1=None, MA1='99999,9,09806,1', MD1='5,1,007,1,+999,9', MW1='50,1', OA1=None, OA2=None, SA1=None, UA1=None, REM='SYN088AAXX  01004 01001 11325 82104 10010 20003 39806 49818 55007 60041 75085 886// 333 91119;', EQD=None, TMP_value='0010')]"
      ]
     },
     "execution_count": 6,
     "metadata": {},
     "output_type": "execute_result"
    }
   ],
   "source": [
    "start = time.time()\n",
    "rdd_2000 = rdd_2000.withColumn(\"TMP_value\", regexp_extract(\"TMP\", r\"\\+(\\d+),\\d+\", 1))\n",
    "rdd_2000 = rdd_2000.drop(\"TMP\")\n",
    "rdd_2000.take(1)"
   ]
  },
  {
   "cell_type": "code",
   "execution_count": 7,
   "id": "aa56c500",
   "metadata": {},
   "outputs": [
    {
     "name": "stderr",
     "output_type": "stream",
     "text": [
      "[Stage 4:=============================>                             (1 + 1) / 2]\r"
     ]
    },
    {
     "name": "stdout",
     "output_type": "stream",
     "text": [
      "+-----------+------------------+\n",
      "|    STATION|       average_TMP|\n",
      "+-----------+------------------+\n",
      "|01097099999| 436.9111880046136|\n",
      "|01112099999| 1096.598865949404|\n",
      "|01110099999| 572.0127388535032|\n",
      "|01113399999| 322.6586345381526|\n",
      "|01115099999| 76.53757455268389|\n",
      "|01068099999|230.58070652173913|\n",
      "|01083099999|301.23567119155354|\n",
      "|01065099999|102.78752107925801|\n",
      "|01055099999| 64.03423094477408|\n",
      "|01089099999| 355.3980388596332|\n",
      "|01103099999|18.333333333333332|\n",
      "|01074099999| 280.5693976805088|\n",
      "|01108099999| 9519.548387096775|\n",
      "|01078099999| 76.98612593383137|\n",
      "|01088599999| 171.9386352479136|\n",
      "|01092099999| 91.47527632344386|\n",
      "|01098099999| 65.77167019027485|\n",
      "|01059099999| 388.8259294265911|\n",
      "|01062099999| 43.45391304347826|\n",
      "|01102099999| 85.41463414634147|\n",
      "+-----------+------------------+\n",
      "only showing top 20 rows\n",
      "\n"
     ]
    },
    {
     "name": "stderr",
     "output_type": "stream",
     "text": [
      "                                                                                \r"
     ]
    }
   ],
   "source": [
    "# group by station\n",
    "rdd_2000_stations_avg = rdd_2000.groupby(\"STATION\").agg(avg(\"TMP_value\").alias(\"average_TMP\"))\n",
    "rdd_2000_stations_avg.show()"
   ]
  },
  {
   "cell_type": "code",
   "execution_count": 8,
   "id": "365f8ecf",
   "metadata": {},
   "outputs": [
    {
     "name": "stderr",
     "output_type": "stream",
     "text": [
      "                                                                                \r"
     ]
    },
    {
     "data": {
      "text/plain": [
       "DataFrame[summary: string, STATION: string, average_TMP: string]"
      ]
     },
     "execution_count": 8,
     "metadata": {},
     "output_type": "execute_result"
    }
   ],
   "source": [
    "# the maximum SLP_value\n",
    "rdd_2000_stations_avg.describe()"
   ]
  },
  {
   "cell_type": "code",
   "execution_count": 9,
   "id": "d73479ee",
   "metadata": {},
   "outputs": [],
   "source": [
    "from pyspark.sql.functions import col\n",
    "rdd2000_stations_avg = rdd_2000_stations_avg.withColumn(\"average_TMP\", col(\"average_TMP\").cast(\"float\"))"
   ]
  },
  {
   "cell_type": "code",
   "execution_count": 10,
   "id": "6fe5f23c",
   "metadata": {},
   "outputs": [
    {
     "name": "stderr",
     "output_type": "stream",
     "text": [
      "                                                                                \r"
     ]
    },
    {
     "data": {
      "image/png": "[encoded data removed]",
      "text/plain": [
       "<Figure size 640x480 with 1 Axes>"
      ]
     },
     "metadata": {},
     "output_type": "display_data"
    },
    {
     "name": "stdout",
     "output_type": "stream",
     "text": [
      "Specific configuration took 14.01 seconds\n"
     ]
    }
   ],
   "source": [
    "import matplotlib.pyplot as plt\n",
    "\n",
    "\n",
    "station_tmp = rdd2000_stations_avg.select(\"STATION\", \"average_TMP\")\n",
    "station_tmp_rdd = station_tmp.rdd.map(tuple)\n",
    "x = station_tmp_rdd.map(lambda row: row[0]).collect()\n",
    "y = station_tmp_rdd.map(lambda row: row[1]).collect()\n",
    "plt.plot(x, y)\n",
    "plt.xlabel('Station')\n",
    "plt.ylabel('Average TMP')\n",
    "plt.title('Change in Average TMP')\n",
    "\n",
    "plt.show()\n",
    "\n",
    "end = time.time()\n",
    "print(f\"Specific configuration took {end-start:.2f} seconds\")"
   ]
  },
  {
   "cell_type": "code",
   "execution_count": null,
   "id": "8af1e6ec",
   "metadata": {},
   "outputs": [],
   "source": []
  }
 ],
 "metadata": {
  "kernelspec": {
   "display_name": "Python 3 (ipykernel)",
   "language": "python",
   "name": "python3"
  },
  "language_info": {
   "codemirror_mode": {
    "name": "ipython",
    "version": 3
   },
   "file_extension": ".py",
   "mimetype": "text/x-python",
   "name": "python",
   "nbconvert_exporter": "python",
   "pygments_lexer": "ipython3",
   "version": "3.10.6"
  }
 },
 "nbformat": 4,
 "nbformat_minor": 5
}
