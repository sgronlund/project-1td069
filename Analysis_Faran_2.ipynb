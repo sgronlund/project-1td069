{
 "cells": [
  {
   "cell_type": "code",
   "execution_count": null,
   "id": "bc92c7a6",
   "metadata": {},
   "outputs": [],
   "source": [
    "from pyspark.sql import SparkSession\n",
    "\n",
    "\n",
    "spark_session_low_perf = SparkSession.builder\\\n",
    "        .master(\"spark://192.168.2.43:7077\") \\\n",
    "        .appName(\"Analytics_SG\")\\\n",
    "        .config(\"spark.dynamicAllocation.enabled\", True)\\\n",
    "        .config(\"spark.dynamicAllocation.shuffleTracking.enabled\",True)\\\n",
    "        .config(\"spark.dynamicAllocation.executorIdleTimeout\",\"30s\")\\\n",
    "        .config(\"spark.executor.instances\", 1)\\\n",
    "        .config(\"spark.cores.max\", 1)\\\n",
    "        .getOrCreate()"
   ]
  },
  {
   "cell_type": "code",
   "execution_count": null,
   "id": "3e50e126",
   "metadata": {},
   "outputs": [],
   "source": [
    "from pyspark.sql import SparkSession\n",
    "\n",
    "\n",
    "spark_session_single_executor = SparkSession.builder\\\n",
    "        .master(\"spark://192.168.2.43:7077\") \\\n",
    "        .appName(\"Analytics_SG\")\\\n",
    "        .config(\"spark.dynamicAllocation.enabled\", True)\\\n",
    "        .config(\"spark.dynamicAllocation.shuffleTracking.enabled\",True)\\\n",
    "        .config(\"spark.dynamicAllocation.executorIdleTimeout\",\"30s\")\\\n",
    "        .config(\"spark.executor.instances\", 1)\\\n",
    "        .getOrCreate()"
   ]
  },
  {
   "cell_type": "code",
   "execution_count": null,
   "id": "7ee43ed5",
   "metadata": {},
   "outputs": [],
   "source": [
    "from pyspark.sql import SparkSession\n",
    "\n",
    "\n",
    "spark_session_two_executors_low_perf = SparkSession.builder\\\n",
    "        .master(\"spark://192.168.2.43:7077\") \\\n",
    "        .appName(\"Analytics_SG\")\\\n",
    "        .config(\"spark.dynamicAllocation.enabled\", True)\\\n",
    "        .config(\"spark.dynamicAllocation.shuffleTracking.enabled\",True)\\\n",
    "        .config(\"spark.dynamicAllocation.executorIdleTimeout\",\"30s\")\\\n",
    "        .config(\"spark.executor.instances\", 2)\\\n",
    "        .config(\"spark.cores.max\", 2)\\\n",
    "        .getOrCreate()"
   ]
  },
  {
   "cell_type": "code",
   "execution_count": 1,
   "id": "03dcd003",
   "metadata": {},
   "outputs": [
    {
     "name": "stderr",
     "output_type": "stream",
     "text": [
      "Setting default log level to \"WARN\".\n",
      "To adjust logging level use sc.setLogLevel(newLevel). For SparkR, use setLogLevel(newLevel).\n"
     ]
    },
    {
     "name": "stdout",
     "output_type": "stream",
     "text": [
      "23/03/22 04:22:59 WARN NativeCodeLoader: Unable to load native-hadoop library for your platform... using builtin-java classes where applicable\n"
     ]
    }
   ],
   "source": [
    "from pyspark.sql import SparkSession\n",
    "\n",
    "\n",
    "spark_session_max = SparkSession.builder\\\n",
    "        .master(\"spark://192.168.2.43:7077\") \\\n",
    "        .appName(\"Analytics_SG\")\\\n",
    "        .config(\"spark.dynamicAllocation.enabled\", True)\\\n",
    "        .config(\"spark.dynamicAllocation.shuffleTracking.enabled\",True)\\\n",
    "        .config(\"spark.dynamicAllocation.executorIdleTimeout\",\"30s\")\\\n",
    "        .config(\"spark.executor.instances\", 2)\\\n",
    "        .config(\"spark.cores.max\", 4)\\\n",
    "        .getOrCreate()"
   ]
  },
  {
   "cell_type": "code",
   "execution_count": 2,
   "id": "b53d14b6",
   "metadata": {},
   "outputs": [
    {
     "name": "stderr",
     "output_type": "stream",
     "text": [
      "                                                                                \r"
     ]
    }
   ],
   "source": [
    "df = spark_session_max.read.csv(\"hdfs://192.168.2.43:9000/user/root/data/2000/merge.csv\", header = True)"
   ]
  },
  {
   "cell_type": "code",
   "execution_count": 3,
   "id": "bdce9fa1",
   "metadata": {},
   "outputs": [
    {
     "name": "stdout",
     "output_type": "stream",
     "text": [
      "root\n",
      " |-- STATION: string (nullable = true)\n",
      " |-- DATE: string (nullable = true)\n",
      " |-- SOURCE: string (nullable = true)\n",
      " |-- LATITUDE: string (nullable = true)\n",
      " |-- LONGITUDE: string (nullable = true)\n",
      " |-- ELEVATION: string (nullable = true)\n",
      " |-- NAME: string (nullable = true)\n",
      " |-- REPORT_TYPE: string (nullable = true)\n",
      " |-- CALL_SIGN: string (nullable = true)\n",
      " |-- QUALITY_CONTROL: string (nullable = true)\n",
      " |-- WND: string (nullable = true)\n",
      " |-- CIG: string (nullable = true)\n",
      " |-- VIS: string (nullable = true)\n",
      " |-- TMP: string (nullable = true)\n",
      " |-- DEW: string (nullable = true)\n",
      " |-- SLP: string (nullable = true)\n",
      " |-- AA1: string (nullable = true)\n",
      " |-- AY1: string (nullable = true)\n",
      " |-- AY2: string (nullable = true)\n",
      " |-- GA1: string (nullable = true)\n",
      " |-- GF1: string (nullable = true)\n",
      " |-- KA1: string (nullable = true)\n",
      " |-- MA1: string (nullable = true)\n",
      " |-- MD1: string (nullable = true)\n",
      " |-- MW1: string (nullable = true)\n",
      " |-- OA1: string (nullable = true)\n",
      " |-- OA2: string (nullable = true)\n",
      " |-- SA1: string (nullable = true)\n",
      " |-- UA1: string (nullable = true)\n",
      " |-- REM: string (nullable = true)\n",
      " |-- EQD: string (nullable = true)\n",
      "\n"
     ]
    }
   ],
   "source": [
    "df.printSchema()"
   ]
  },
  {
   "cell_type": "code",
   "execution_count": 4,
   "id": "0ec552e9",
   "metadata": {},
   "outputs": [
    {
     "name": "stdout",
     "output_type": "stream",
     "text": [
      "23/03/22 04:23:19 WARN package: Truncated the string representation of a plan since it was too large. This behavior can be adjusted by setting 'spark.sql.debug.maxToStringFields'.\n"
     ]
    },
    {
     "name": "stderr",
     "output_type": "stream",
     "text": [
      "                                                                                \r"
     ]
    },
    {
     "data": {
      "text/plain": [
       "Row(STATION='01001099999', DATE='2000-01-01T00:00:00', SOURCE='4', LATITUDE='70.9333333', LONGITUDE='-8.6666667', ELEVATION='9.0', NAME='JAN MAYEN NOR NAVY, NO', REPORT_TYPE='FM-12', CALL_SIGN='ENJA ', QUALITY_CONTROL='V020', WND='210,1,N,0021,1', CIG='00210,1,9,N', VIS='002500,1,N,1', TMP='+0010,1', DEW='+0003,1', SLP='09818,1', AA1='06,0041,9,1', AY1='8,1,06,1', AY2='5,1,06,1', GA1=None, GF1='08,99,1,08,1,06,1,00250,1,99,9,99,9', KA1=None, MA1='99999,9,09806,1', MD1='5,1,007,1,+999,9', MW1='50,1', OA1=None, OA2=None, SA1=None, UA1=None, REM='SYN088AAXX  01004 01001 11325 82104 10010 20003 39806 49818 55007 60041 75085 886// 333 91119;', EQD=None)"
      ]
     },
     "execution_count": 4,
     "metadata": {},
     "output_type": "execute_result"
    }
   ],
   "source": [
    "df.head()"
   ]
  },
  {
   "cell_type": "code",
   "execution_count": 5,
   "id": "565c2205",
   "metadata": {},
   "outputs": [],
   "source": [
    "from pyspark.sql.functions import split, col\n",
    "import time\n",
    "\n",
    "start = time.time()\n",
    "#splitting SLP column to extract value and casting it to Integer\n",
    "df = df.withColumn('SLP_value', split(col('SLP'), ',').getItem(0).cast('float'))"
   ]
  },
  {
   "cell_type": "code",
   "execution_count": 6,
   "id": "43f0d188",
   "metadata": {},
   "outputs": [
    {
     "name": "stdout",
     "output_type": "stream",
     "text": [
      "root\n",
      " |-- STATION: string (nullable = true)\n",
      " |-- DATE: string (nullable = true)\n",
      " |-- SOURCE: string (nullable = true)\n",
      " |-- LATITUDE: string (nullable = true)\n",
      " |-- LONGITUDE: string (nullable = true)\n",
      " |-- ELEVATION: string (nullable = true)\n",
      " |-- NAME: string (nullable = true)\n",
      " |-- REPORT_TYPE: string (nullable = true)\n",
      " |-- CALL_SIGN: string (nullable = true)\n",
      " |-- QUALITY_CONTROL: string (nullable = true)\n",
      " |-- WND: string (nullable = true)\n",
      " |-- CIG: string (nullable = true)\n",
      " |-- VIS: string (nullable = true)\n",
      " |-- TMP: string (nullable = true)\n",
      " |-- DEW: string (nullable = true)\n",
      " |-- SLP: string (nullable = true)\n",
      " |-- AA1: string (nullable = true)\n",
      " |-- AY1: string (nullable = true)\n",
      " |-- AY2: string (nullable = true)\n",
      " |-- GA1: string (nullable = true)\n",
      " |-- GF1: string (nullable = true)\n",
      " |-- KA1: string (nullable = true)\n",
      " |-- MA1: string (nullable = true)\n",
      " |-- MD1: string (nullable = true)\n",
      " |-- MW1: string (nullable = true)\n",
      " |-- OA1: string (nullable = true)\n",
      " |-- OA2: string (nullable = true)\n",
      " |-- SA1: string (nullable = true)\n",
      " |-- UA1: string (nullable = true)\n",
      " |-- REM: string (nullable = true)\n",
      " |-- EQD: string (nullable = true)\n",
      " |-- SLP_value: float (nullable = true)\n",
      "\n"
     ]
    }
   ],
   "source": [
    "df.printSchema()"
   ]
  },
  {
   "cell_type": "code",
   "execution_count": 7,
   "id": "500e2485",
   "metadata": {},
   "outputs": [],
   "source": [
    "from pyspark.sql.functions import regexp_extract, col\n",
    "\n",
    "df = df.withColumn(\"DEW_value\", regexp_extract(col(\"DEW\"), \"\\\\+(\\\\d+),\", 1).cast(\"float\"))\n",
    "df = df.withColumn(\"TMP_value\", regexp_extract(col(\"TMP\"), \"\\\\+(\\\\d+),\", 1).cast(\"float\"))"
   ]
  },
  {
   "cell_type": "code",
   "execution_count": 8,
   "id": "e9c40254",
   "metadata": {},
   "outputs": [
    {
     "name": "stdout",
     "output_type": "stream",
     "text": [
      "root\n",
      " |-- STATION: string (nullable = true)\n",
      " |-- DATE: string (nullable = true)\n",
      " |-- SOURCE: string (nullable = true)\n",
      " |-- LATITUDE: string (nullable = true)\n",
      " |-- LONGITUDE: string (nullable = true)\n",
      " |-- ELEVATION: string (nullable = true)\n",
      " |-- NAME: string (nullable = true)\n",
      " |-- REPORT_TYPE: string (nullable = true)\n",
      " |-- CALL_SIGN: string (nullable = true)\n",
      " |-- QUALITY_CONTROL: string (nullable = true)\n",
      " |-- WND: string (nullable = true)\n",
      " |-- CIG: string (nullable = true)\n",
      " |-- VIS: string (nullable = true)\n",
      " |-- TMP: string (nullable = true)\n",
      " |-- DEW: string (nullable = true)\n",
      " |-- SLP: string (nullable = true)\n",
      " |-- AA1: string (nullable = true)\n",
      " |-- AY1: string (nullable = true)\n",
      " |-- AY2: string (nullable = true)\n",
      " |-- GA1: string (nullable = true)\n",
      " |-- GF1: string (nullable = true)\n",
      " |-- KA1: string (nullable = true)\n",
      " |-- MA1: string (nullable = true)\n",
      " |-- MD1: string (nullable = true)\n",
      " |-- MW1: string (nullable = true)\n",
      " |-- OA1: string (nullable = true)\n",
      " |-- OA2: string (nullable = true)\n",
      " |-- SA1: string (nullable = true)\n",
      " |-- UA1: string (nullable = true)\n",
      " |-- REM: string (nullable = true)\n",
      " |-- EQD: string (nullable = true)\n",
      " |-- SLP_value: float (nullable = true)\n",
      " |-- DEW_value: float (nullable = true)\n",
      " |-- TMP_value: float (nullable = true)\n",
      "\n"
     ]
    }
   ],
   "source": [
    "df.printSchema()"
   ]
  },
  {
   "cell_type": "code",
   "execution_count": 9,
   "id": "d613508a",
   "metadata": {},
   "outputs": [
    {
     "data": {
      "text/plain": [
       "Row(STATION='01001099999', DATE='2000-01-01T00:00:00', SOURCE='4', LATITUDE='70.9333333', LONGITUDE='-8.6666667', ELEVATION='9.0', NAME='JAN MAYEN NOR NAVY, NO', REPORT_TYPE='FM-12', CALL_SIGN='ENJA ', QUALITY_CONTROL='V020', WND='210,1,N,0021,1', CIG='00210,1,9,N', VIS='002500,1,N,1', TMP='+0010,1', DEW='+0003,1', SLP='09818,1', AA1='06,0041,9,1', AY1='8,1,06,1', AY2='5,1,06,1', GA1=None, GF1='08,99,1,08,1,06,1,00250,1,99,9,99,9', KA1=None, MA1='99999,9,09806,1', MD1='5,1,007,1,+999,9', MW1='50,1', OA1=None, OA2=None, SA1=None, UA1=None, REM='SYN088AAXX  01004 01001 11325 82104 10010 20003 39806 49818 55007 60041 75085 886// 333 91119;', EQD=None, SLP_value=9818.0, DEW_value=3.0, TMP_value=10.0)"
      ]
     },
     "execution_count": 9,
     "metadata": {},
     "output_type": "execute_result"
    }
   ],
   "source": [
    "df.head()"
   ]
  },
  {
   "cell_type": "code",
   "execution_count": 10,
   "id": "7f3c25a6",
   "metadata": {},
   "outputs": [],
   "source": [
    "# Select the TMP, DEW, and SLP columns\n",
    "df_selected = df.select(\"TMP_value\", \"DEW_value\", \"SLP_value\")"
   ]
  },
  {
   "cell_type": "code",
   "execution_count": 11,
   "id": "38123b60",
   "metadata": {},
   "outputs": [
    {
     "name": "stderr",
     "output_type": "stream",
     "text": [
      "[Stage 3:=============================>                             (2 + 2) / 4]\r"
     ]
    },
    {
     "name": "stdout",
     "output_type": "stream",
     "text": [
      "Correlation between TMP and DEW:  0.7580761111075074\n"
     ]
    },
    {
     "name": "stderr",
     "output_type": "stream",
     "text": [
      "                                                                                \r"
     ]
    }
   ],
   "source": [
    "from pyspark.sql.functions import corr\n",
    "import matplotlib.pyplot as plt\n",
    "\n",
    "# Calculate the correlation between TMP and DEW\n",
    "corr_tmp_dew = df_selected.select(corr(\"TMP_value\", \"DEW_value\")).collect()[0][0]\n",
    "print(\"Correlation between TMP and DEW: \", corr_tmp_dew)"
   ]
  },
  {
   "cell_type": "code",
   "execution_count": 12,
   "id": "db7cab58",
   "metadata": {},
   "outputs": [
    {
     "name": "stderr",
     "output_type": "stream",
     "text": [
      "[Stage 6:>                                                          (0 + 4) / 4]\r"
     ]
    },
    {
     "name": "stdout",
     "output_type": "stream",
     "text": [
      "Correlation between TMP and SLP:  0.08393156033583317\n"
     ]
    },
    {
     "name": "stderr",
     "output_type": "stream",
     "text": [
      "                                                                                \r"
     ]
    }
   ],
   "source": [
    "# Calculate the correlation between TMP and SLP\n",
    "corr_tmp_slp = df_selected.select(corr(\"TMP_value\", \"SLP_value\")).collect()[0][0]\n",
    "print(\"Correlation between TMP and SLP: \", corr_tmp_slp)"
   ]
  },
  {
   "cell_type": "code",
   "execution_count": 13,
   "id": "7b5e4731",
   "metadata": {},
   "outputs": [
    {
     "name": "stderr",
     "output_type": "stream",
     "text": [
      "                                                                                \r"
     ]
    },
    {
     "data": {
      "image/png": "[encoded data removed]",
      "text/plain": [
       "<Figure size 640x480 with 1 Axes>"
      ]
     },
     "metadata": {},
     "output_type": "display_data"
    }
   ],
   "source": [
    "# Draw scatter plot for TMP-DEW\n",
    "x = df_selected.select(\"TMP_value\").rdd.flatMap(lambda x: x).collect()\n",
    "y = df_selected.select(\"DEW_value\").rdd.flatMap(lambda x: x).collect()\n",
    "plt.scatter(x, y)\n",
    "plt.xlabel(\"Air Temperature (TMP)\")\n",
    "plt.ylabel(\"Dew Point Temperature (DEW)\")\n",
    "plt.show()"
   ]
  },
  {
   "cell_type": "code",
   "execution_count": 14,
   "id": "8bdc69a3",
   "metadata": {},
   "outputs": [
    {
     "name": "stderr",
     "output_type": "stream",
     "text": [
      "                                                                                \r"
     ]
    },
    {
     "data": {
      "image/png": "[encoded data removed]",
      "text/plain": [
       "<Figure size 640x480 with 1 Axes>"
      ]
     },
     "metadata": {},
     "output_type": "display_data"
    },
    {
     "name": "stdout",
     "output_type": "stream",
     "text": [
      "Specific configuration took 15.33 seconds\n"
     ]
    }
   ],
   "source": [
    "# Draw scatter plot for TMP-SLP\n",
    "x = df_selected.select(\"TMP_value\").rdd.flatMap(lambda x: x).collect()\n",
    "y = df_selected.select(\"SLP_value\").rdd.flatMap(lambda x: x).collect()\n",
    "plt.scatter(x, y)\n",
    "plt.xlabel(\"Air Temperature (TMP)\")\n",
    "plt.ylabel(\"Sea Level Pressure (SLP)\")\n",
    "plt.show()\n",
    "\n",
    "end = time.time()\n",
    "print(f\"Specific configuration took {end-start:.2f} seconds\")"
   ]
  },
  {
   "cell_type": "code",
   "execution_count": null,
   "id": "b171a187",
   "metadata": {},
   "outputs": [],
   "source": []
  }
 ],
 "metadata": {
  "kernelspec": {
   "display_name": "Python 3 (ipykernel)",
   "language": "python",
   "name": "python3"
  },
  "language_info": {
   "codemirror_mode": {
    "name": "ipython",
    "version": 3
   },
   "file_extension": ".py",
   "mimetype": "text/x-python",
   "name": "python",
   "nbconvert_exporter": "python",
   "pygments_lexer": "ipython3",
   "version": "3.10.6"
  }
 },
 "nbformat": 4,
 "nbformat_minor": 5
}
