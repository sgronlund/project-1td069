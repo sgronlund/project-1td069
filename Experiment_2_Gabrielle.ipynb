{
 "cells": [
  {
   "cell_type": "code",
   "execution_count": 1,
   "id": "afe8c830",
   "metadata": {},
   "outputs": [],
   "source": [
    "from pyspark.sql import SparkSession\n",
    "from pyspark.sql import functions as F\n",
    "import time"
   ]
  },
  {
   "cell_type": "code",
   "execution_count": 2,
   "id": "5e9b3fb3",
   "metadata": {},
   "outputs": [],
   "source": [
    "def time_analysis(session):\n",
    "    start = time.time()\n",
    "    rdd = session.read.csv(\"hdfs://192.168.2.43:9000/user/root/data/*/merge.csv\", header = True)\n",
    "    rdd = rdd.withColumn(\"WND\", rdd.WND.cast(\"double\"))\n",
    "    rdd.agg(F.avg(rdd.WND))\n",
    "    end = time.time()\n",
    "    print(f\"{end-start:.2f} seconds\")"
   ]
  },
  {
   "cell_type": "markdown",
   "id": "8fcb4ca6",
   "metadata": {},
   "source": [
    "**Test 1 - A single Apache Worker using a single core**"
   ]
  },
  {
   "cell_type": "code",
   "execution_count": 3,
   "id": "05ca2722",
   "metadata": {},
   "outputs": [
    {
     "name": "stderr",
     "output_type": "stream",
     "text": [
      "Setting default log level to \"WARN\".\n",
      "To adjust logging level use sc.setLogLevel(newLevel). For SparkR, use setLogLevel(newLevel).\n"
     ]
    },
    {
     "name": "stdout",
     "output_type": "stream",
     "text": [
      "23/03/21 18:56:29 WARN NativeCodeLoader: Unable to load native-hadoop library for your platform... using builtin-java classes where applicable\n"
     ]
    }
   ],
   "source": [
    "spark_session_1 = SparkSession.builder\\\n",
    "        .master(\"spark://192.168.2.43:7077\") \\\n",
    "        .appName(\"experiment_2_1\")\\\n",
    "        .config(\"spark.dynamicAllocation.enabled\", True)\\\n",
    "        .config(\"spark.dynamicAllocation.shuffleTracking.enabled\",True)\\\n",
    "        .config(\"spark.dynamicAllocation.executorIdleTimeout\",\"30s\")\\\n",
    "        .config(\"spark.executor.instances\", 1)\\\n",
    "        .config(\"spark.cores.max\", 1)\\\n",
    "        .getOrCreate()"
   ]
  },
  {
   "cell_type": "code",
   "execution_count": 4,
   "id": "f94113ec",
   "metadata": {},
   "outputs": [
    {
     "name": "stderr",
     "output_type": "stream",
     "text": [
      "                                                                                \r"
     ]
    },
    {
     "name": "stdout",
     "output_type": "stream",
     "text": [
      "19.05 seconds\n"
     ]
    }
   ],
   "source": [
    "time_analysis(spark_session_1)"
   ]
  },
  {
   "cell_type": "code",
   "execution_count": null,
   "id": "6c6cc545",
   "metadata": {},
   "outputs": [],
   "source": [
    "spark_session_1.stop()"
   ]
  },
  {
   "cell_type": "markdown",
   "id": "d37072b1",
   "metadata": {},
   "source": [
    "**Test 2 - A single Apache Worker using all cores**"
   ]
  },
  {
   "cell_type": "code",
   "execution_count": 3,
   "id": "7e68f0dd",
   "metadata": {},
   "outputs": [
    {
     "name": "stderr",
     "output_type": "stream",
     "text": [
      "Setting default log level to \"WARN\".\n",
      "To adjust logging level use sc.setLogLevel(newLevel). For SparkR, use setLogLevel(newLevel).\n"
     ]
    },
    {
     "name": "stdout",
     "output_type": "stream",
     "text": [
      "23/03/21 18:57:49 WARN NativeCodeLoader: Unable to load native-hadoop library for your platform... using builtin-java classes where applicable\n"
     ]
    }
   ],
   "source": [
    "spark_session_2 = SparkSession.builder\\\n",
    "        .master(\"spark://192.168.2.43:7077\") \\\n",
    "        .appName(\"experiment_2_2\")\\\n",
    "        .config(\"spark.dynamicAllocation.enabled\", True)\\\n",
    "        .config(\"spark.dynamicAllocation.shuffleTracking.enabled\",True)\\\n",
    "        .config(\"spark.dynamicAllocation.executorIdleTimeout\",\"30s\")\\\n",
    "        .config(\"spark.executor.instances\", 1)\\\n",
    "        .getOrCreate()"
   ]
  },
  {
   "cell_type": "code",
   "execution_count": 4,
   "id": "aee8d3fb",
   "metadata": {},
   "outputs": [
    {
     "name": "stderr",
     "output_type": "stream",
     "text": [
      "                                                                                \r"
     ]
    },
    {
     "name": "stdout",
     "output_type": "stream",
     "text": [
      "17.82 seconds\n"
     ]
    }
   ],
   "source": [
    "time_analysis(spark_session_2)"
   ]
  },
  {
   "cell_type": "code",
   "execution_count": null,
   "id": "65a7778a",
   "metadata": {},
   "outputs": [],
   "source": [
    "spark_session_2.stop()"
   ]
  },
  {
   "cell_type": "markdown",
   "id": "5f353d80",
   "metadata": {},
   "source": [
    "**Test 3 - Two Apache Workers using a single core**"
   ]
  },
  {
   "cell_type": "code",
   "execution_count": 3,
   "id": "4488e7f7",
   "metadata": {},
   "outputs": [
    {
     "name": "stderr",
     "output_type": "stream",
     "text": [
      "Setting default log level to \"WARN\".\n",
      "To adjust logging level use sc.setLogLevel(newLevel). For SparkR, use setLogLevel(newLevel).\n"
     ]
    },
    {
     "name": "stdout",
     "output_type": "stream",
     "text": [
      "23/03/21 18:58:41 WARN NativeCodeLoader: Unable to load native-hadoop library for your platform... using builtin-java classes where applicable\n"
     ]
    }
   ],
   "source": [
    "spark_session_3 = SparkSession.builder\\\n",
    "        .master(\"spark://192.168.2.43:7077\") \\\n",
    "        .appName(\"experiment_2_3\")\\\n",
    "        .config(\"spark.dynamicAllocation.enabled\", True)\\\n",
    "        .config(\"spark.dynamicAllocation.shuffleTracking.enabled\",True)\\\n",
    "        .config(\"spark.dynamicAllocation.executorIdleTimeout\",\"30s\")\\\n",
    "        .config(\"spark.executor.instances\", 2)\\\n",
    "        .config(\"spark.cores.max\", 2)\\\n",
    "        .getOrCreate()"
   ]
  },
  {
   "cell_type": "code",
   "execution_count": 4,
   "id": "6e92a5c6",
   "metadata": {},
   "outputs": [
    {
     "name": "stderr",
     "output_type": "stream",
     "text": [
      "                                                                                \r"
     ]
    },
    {
     "name": "stdout",
     "output_type": "stream",
     "text": [
      "17.11 seconds\n"
     ]
    }
   ],
   "source": [
    "time_analysis(spark_session_3)"
   ]
  },
  {
   "cell_type": "code",
   "execution_count": null,
   "id": "02f15cc1",
   "metadata": {},
   "outputs": [],
   "source": [
    "spark_session_3.stop()"
   ]
  },
  {
   "cell_type": "markdown",
   "id": "0db08a81",
   "metadata": {},
   "source": [
    "**Test 4 - Two Apache Workers using a all cores**"
   ]
  },
  {
   "cell_type": "code",
   "execution_count": 3,
   "id": "476357ad",
   "metadata": {},
   "outputs": [
    {
     "name": "stderr",
     "output_type": "stream",
     "text": [
      "Setting default log level to \"WARN\".\n",
      "To adjust logging level use sc.setLogLevel(newLevel). For SparkR, use setLogLevel(newLevel).\n"
     ]
    },
    {
     "name": "stdout",
     "output_type": "stream",
     "text": [
      "23/03/21 19:01:49 WARN NativeCodeLoader: Unable to load native-hadoop library for your platform... using builtin-java classes where applicable\n"
     ]
    }
   ],
   "source": [
    "spark_session_4 = SparkSession.builder\\\n",
    "        .master(\"spark://192.168.2.43:7077\") \\\n",
    "        .appName(\"experiment_2_4\")\\\n",
    "        .config(\"spark.dynamicAllocation.enabled\", True)\\\n",
    "        .config(\"spark.dynamicAllocation.shuffleTracking.enabled\",True)\\\n",
    "        .config(\"spark.dynamicAllocation.executorIdleTimeout\",\"30s\")\\\n",
    "        .config(\"spark.executor.instances\", 2)\\\n",
    "        .config(\"spark.cores.max\", 4)\\\n",
    "        .getOrCreate()"
   ]
  },
  {
   "cell_type": "code",
   "execution_count": 4,
   "id": "506a2f1f",
   "metadata": {},
   "outputs": [
    {
     "name": "stderr",
     "output_type": "stream",
     "text": [
      "                                                                                \r"
     ]
    },
    {
     "name": "stdout",
     "output_type": "stream",
     "text": [
      "16.00 seconds\n"
     ]
    }
   ],
   "source": [
    "time_analysis(spark_session_4)"
   ]
  },
  {
   "cell_type": "code",
   "execution_count": null,
   "id": "b742c3a3",
   "metadata": {},
   "outputs": [],
   "source": [
    "spark_session_4.stop()"
   ]
  }
 ],
 "metadata": {
  "kernelspec": {
   "display_name": "Python 3 (ipykernel)",
   "language": "python",
   "name": "python3"
  },
  "language_info": {
   "codemirror_mode": {
    "name": "ipython",
    "version": 3
   },
   "file_extension": ".py",
   "mimetype": "text/x-python",
   "name": "python",
   "nbconvert_exporter": "python",
   "pygments_lexer": "ipython3",
   "version": "3.10.6"
  }
 },
 "nbformat": 4,
 "nbformat_minor": 5
}
